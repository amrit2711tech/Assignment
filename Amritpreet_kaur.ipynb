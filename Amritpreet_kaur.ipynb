{
  "nbformat": 4,
  "nbformat_minor": 0,
  "metadata": {
    "colab": {
      "provenance": [],
      "include_colab_link": true
    },
    "kernelspec": {
      "name": "python3",
      "display_name": "Python 3"
    },
    "language_info": {
      "name": "python"
    }
  },
  "cells": [
    {
      "cell_type": "markdown",
      "metadata": {
        "id": "view-in-github",
        "colab_type": "text"
      },
      "source": [
        "<a href=\"https://colab.research.google.com/github/amrit2711tech/Assignment/blob/main/Amritpreet_kaur.ipynb\" target=\"_parent\"><img src=\"https://colab.research.google.com/assets/colab-badge.svg\" alt=\"Open In Colab\"/></a>"
      ]
    },
    {
      "cell_type": "code",
      "source": [
        "print(\"hello world\")"
      ],
      "metadata": {
        "id": "_KlgL9vVtqKq",
        "colab": {
          "base_uri": "https://localhost:8080/"
        },
        "outputId": "b9674157-bd7d-4efe-d0ff-0b3e2477bbad"
      },
      "execution_count": null,
      "outputs": [
        {
          "output_type": "stream",
          "name": "stdout",
          "text": [
            "hello world\n"
          ]
        }
      ]
    },
    {
      "cell_type": "markdown",
      "source": [
        "Assignment No. 1"
      ],
      "metadata": {
        "id": "BGhTD1rz82SO"
      }
    },
    {
      "cell_type": "code",
      "source": [
        "#Create variables to store your name (string), age (integer), and course (string). Print all of them\n",
        "#using a single print() statement.\n",
        "Name, Age, Course=\"amrit\",20,\"Btech\"\n",
        "\n",
        "print(Name,Age,Course)"
      ],
      "metadata": {
        "colab": {
          "base_uri": "https://localhost:8080/"
        },
        "id": "jzdzjUyL86aI",
        "outputId": "cb9e35b4-661b-4b64-c4e7-55c5b0431220"
      },
      "execution_count": null,
      "outputs": [
        {
          "output_type": "stream",
          "name": "stdout",
          "text": [
            "amrit 20 Btech\n"
          ]
        }
      ]
    },
    {
      "cell_type": "code",
      "source": [
        "#Write a program to swap two numbers without using a third variable. Example: a = 4, b = 9.\n",
        "x=4\n",
        "y=9\n",
        "x,y=y,x\n",
        "print(x)"
      ],
      "metadata": {
        "colab": {
          "base_uri": "https://localhost:8080/"
        },
        "id": "DSjMcQkk9AqT",
        "outputId": "b0773130-39c1-431f-b5a2-b2a098bd2e5d"
      },
      "execution_count": null,
      "outputs": [
        {
          "output_type": "stream",
          "name": "stdout",
          "text": [
            "9\n"
          ]
        }
      ]
    },
    {
      "cell_type": "code",
      "source": [
        "#Arithmetic operations\n",
        "x=20\n",
        "y=15\n",
        "\n",
        "print(x+y) #sum\n",
        "print(x-y )#difference\n",
        "print(x/y) #divide\n",
        "print(x%y) #remainder\n",
        "print(x*y) #product"
      ],
      "metadata": {
        "colab": {
          "base_uri": "https://localhost:8080/"
        },
        "id": "nEoaP-n49ER1",
        "outputId": "2cd191bc-4f71-4640-9f0e-566a749487f3"
      },
      "execution_count": null,
      "outputs": [
        {
          "output_type": "stream",
          "name": "stdout",
          "text": [
            "35\n",
            "5\n",
            "1.3333333333333333\n",
            "5\n",
            "300\n"
          ]
        }
      ]
    },
    {
      "cell_type": "code",
      "source": [
        "#Take marks of 5 subjects and calculate the total and percentage\n",
        "a=80 #subject1\n",
        "b=97 #subject2\n",
        "c=78 #subject3\n",
        "d=89 #subject4\n",
        "e=85 #subject5\n",
        "\n",
        "total= a+b+c+d+e\n",
        "print (total)\n",
        "percentage= total/500*100\n",
        "print(percentage)\n"
      ],
      "metadata": {
        "colab": {
          "base_uri": "https://localhost:8080/"
        },
        "id": "WYN2oOGW9Ff7",
        "outputId": "ef50d382-2397-4a1c-a229-7d16b018a177"
      },
      "execution_count": null,
      "outputs": [
        {
          "output_type": "stream",
          "name": "stdout",
          "text": [
            "429\n",
            "85.8\n"
          ]
        }
      ]
    },
    {
      "cell_type": "code",
      "source": [
        "#Use compound assignment operators\n",
        "x = 10\n",
        "print(x)\n",
        "\n",
        "x += 5\n",
        "print(x)\n",
        "\n",
        "x *= 2\n",
        "print(x)\n",
        "\n",
        "x -= 4\n",
        "print(x)\n",
        "\n",
        "x /= 2\n",
        "print(x)\n"
      ],
      "metadata": {
        "colab": {
          "base_uri": "https://localhost:8080/"
        },
        "id": "5rrfT4Uf9KNN",
        "outputId": "4b37af9a-3097-4315-9db4-740c4214b73f"
      },
      "execution_count": null,
      "outputs": [
        {
          "output_type": "stream",
          "name": "stdout",
          "text": [
            "10\n",
            "15\n",
            "30\n",
            "26\n",
            "13.0\n"
          ]
        }
      ]
    },
    {
      "cell_type": "code",
      "source": [
        "#Relational operator check\n",
        "a = 10 # first number\n",
        "b = 7 #second number\n",
        "\n",
        "if a == b:\n",
        "    print(\"Both are equal\")\n",
        "elif a > b:\n",
        "    print(\"First is greater\")\n",
        "else:\n",
        "    print(\"Second is greater\")\n"
      ],
      "metadata": {
        "colab": {
          "base_uri": "https://localhost:8080/"
        },
        "id": "YWXjEJxh9NRI",
        "outputId": "1510469b-9ae7-4e1b-af1e-6a64d7d4d01b"
      },
      "execution_count": null,
      "outputs": [
        {
          "output_type": "stream",
          "name": "stdout",
          "text": [
            "First is greater\n"
          ]
        }
      ]
    },
    {
      "cell_type": "code",
      "source": [
        "# Logical operator challenge\n",
        "is_raining = True\n",
        "have_umbrella = False\n",
        "\n",
        "print(is_raining & have_umbrella)\n",
        "\n",
        "print(is_raining | have_umbrella)\n",
        "\n",
        "if not is_raining or (is_raining and have_umbrella): #not is_raining= false\n",
        "    print(\"You can go outside.\")                     # is_raining and have_umbrella= false then it gives output false\n",
        "else:                                                #false or false gives false\n",
        "    print(\"You cannot go outside.\")"
      ],
      "metadata": {
        "id": "KCi3D7fH-AN_",
        "outputId": "87453f13-8a59-47fb-88e6-8ae2a93a4030",
        "colab": {
          "base_uri": "https://localhost:8080/"
        }
      },
      "execution_count": null,
      "outputs": [
        {
          "output_type": "stream",
          "name": "stdout",
          "text": [
            "False\n",
            "True\n",
            "You cannot go outside.\n"
          ]
        }
      ]
    },
    {
      "cell_type": "code",
      "source": [
        "#Identity operator\n",
        "list1 = [1, 2, 3]\n",
        "list2 = [3, 2, 1]\n",
        "\n",
        "print(list1 == list2)\n",
        "print(list1 is list2)"
      ],
      "metadata": {
        "colab": {
          "base_uri": "https://localhost:8080/"
        },
        "id": "CLZKo88f9Pxf",
        "outputId": "0f64cab2-542b-43e9-fbd0-bd8e02d5a859"
      },
      "execution_count": null,
      "outputs": [
        {
          "output_type": "stream",
          "name": "stdout",
          "text": [
            "False\n",
            "False\n"
          ]
        }
      ]
    },
    {
      "cell_type": "code",
      "source": [
        "#Bitwise operation\n",
        "a=17\n",
        "b=23\n",
        "\n",
        "print(a & b) #AND\n",
        "print(a|b)  #OR\n",
        "print(a^b)   #XOR"
      ],
      "metadata": {
        "colab": {
          "base_uri": "https://localhost:8080/"
        },
        "id": "MQwmzo9-9SNy",
        "outputId": "00920b79-c99d-40d1-841c-4ea98df09894"
      },
      "execution_count": null,
      "outputs": [
        {
          "output_type": "stream",
          "name": "stdout",
          "text": [
            "17\n",
            "23\n",
            "6\n"
          ]
        }
      ]
    },
    {
      "cell_type": "code",
      "source": [
        "# Variable types and typecasting\n",
        "a = 5\n",
        "b =4.5\n",
        "\n",
        "print(\"Type of int_num:\", type(a))\n",
        "print(\"Type of float_num:\", type(b))\n",
        "\n",
        "sum  = a+b\n",
        "print(\"Sum as integer:\",(sum))\n"
      ],
      "metadata": {
        "colab": {
          "base_uri": "https://localhost:8080/"
        },
        "id": "bd_p4Lvp9YK-",
        "outputId": "b080b81f-c09d-49ac-98cf-71b3e38d5a34"
      },
      "execution_count": null,
      "outputs": [
        {
          "output_type": "stream",
          "name": "stdout",
          "text": [
            "Type of int_num: <class 'int'>\n",
            "Type of float_num: <class 'float'>\n",
            "Sum as integer: 9.5\n"
          ]
        }
      ]
    },
    {
      "cell_type": "markdown",
      "source": [
        "Assignment No. 2"
      ],
      "metadata": {
        "id": "6aadUjdZ9ecm"
      }
    },
    {
      "cell_type": "code",
      "source": [
        "#to print number 1 to 10 but stop the loop when number reaches 9\n",
        "for i in range(1,14):\n",
        "    if i==9:\n",
        "        break\n",
        "    print(i)"
      ],
      "metadata": {
        "colab": {
          "base_uri": "https://localhost:8080/"
        },
        "id": "2bbbJEpu9g3I",
        "outputId": "573aded1-8760-4033-e877-ec37f538b238"
      },
      "execution_count": null,
      "outputs": [
        {
          "output_type": "stream",
          "name": "stdout",
          "text": [
            "1\n",
            "2\n",
            "3\n",
            "4\n",
            "5\n",
            "6\n",
            "7\n",
            "8\n"
          ]
        }
      ]
    },
    {
      "cell_type": "code",
      "source": [
        "#enter the number\n",
        "num=int(input(\"enter the number\"))\n",
        "if num>=0:\n",
        "    print(\"enter the number:\",num)\n",
        "else:\n",
        "    print(\"stop,you enter the negative number\",num)"
      ],
      "metadata": {
        "colab": {
          "base_uri": "https://localhost:8080/"
        },
        "id": "avRJqPkJ-c8P",
        "outputId": "6b1dc233-6527-46ff-f463-8b870c10aa1d"
      },
      "execution_count": null,
      "outputs": [
        {
          "output_type": "stream",
          "name": "stdout",
          "text": [
            "enter the number5\n",
            "enter the number: 5\n"
          ]
        }
      ]
    },
    {
      "cell_type": "code",
      "source": [
        "#find first even number in a list\n",
        "list=[1,2,5,8,11,14]\n",
        "for num in list:\n",
        "    if num%2==0:\n",
        "        print(\"first even number is:\",num)\n",
        "        break"
      ],
      "metadata": {
        "colab": {
          "base_uri": "https://localhost:8080/"
        },
        "id": "aIxewzPl-5kF",
        "outputId": "468fa46f-1c34-4c5d-96c9-a1079b8ef20e"
      },
      "execution_count": null,
      "outputs": [
        {
          "output_type": "stream",
          "name": "stdout",
          "text": [
            "first even number is: 2\n"
          ]
        }
      ]
    },
    {
      "cell_type": "code",
      "source": [
        "#sum exceeds 25\n",
        "A=[5,10,5,7,9,11,15]\n",
        "total=0\n",
        "for a in A:\n",
        "    total+=a\n",
        "    if total>=25:\n",
        "        print(\"total sum:\",total)\n",
        "        print(\"last number added:\",a)"
      ],
      "metadata": {
        "colab": {
          "base_uri": "https://localhost:8080/"
        },
        "id": "6WMuw-P4_P00",
        "outputId": "70ec534d-5ba6-4417-9173-349a1dac6052"
      },
      "execution_count": null,
      "outputs": [
        {
          "output_type": "stream",
          "name": "stdout",
          "text": [
            "total sum: 27\n",
            "last number added: 7\n",
            "total sum: 36\n",
            "last number added: 9\n",
            "total sum: 47\n",
            "last number added: 11\n",
            "total sum: 62\n",
            "last number added: 15\n"
          ]
        }
      ]
    },
    {
      "cell_type": "code",
      "source": [
        "#guess da password\n",
        "while True:\n",
        "    password=input(\"enter the password\")\n",
        "    if password==\"admin123\":\n",
        "        print(\"access granted\")\n",
        "        break\n",
        "    else:\n",
        "        print(\"guess the password\")"
      ],
      "metadata": {
        "colab": {
          "base_uri": "https://localhost:8080/"
        },
        "id": "8_SYSrJE_kR0",
        "outputId": "d51eda1c-91fb-4d22-b219-544bffc4434e"
      },
      "execution_count": null,
      "outputs": [
        {
          "output_type": "stream",
          "name": "stdout",
          "text": [
            "enter the passwordadmin123\n",
            "access granted\n"
          ]
        }
      ]
    },
    {
      "cell_type": "code",
      "source": [
        "#print multiplies of 7 stop the value is greater than 100\n",
        "i=1\n",
        "while True:\n",
        "    result=7*i\n",
        "    if result>100:\n",
        "        break\n",
        "    print(f\"7*{i}={result}\")\n",
        "    i+=1"
      ],
      "metadata": {
        "colab": {
          "base_uri": "https://localhost:8080/"
        },
        "id": "3fLsVu0-_yCj",
        "outputId": "ff6961d3-d430-4949-cc1d-22e4acc3013e"
      },
      "execution_count": null,
      "outputs": [
        {
          "output_type": "stream",
          "name": "stdout",
          "text": [
            "7*1=7\n",
            "7*2=14\n",
            "7*3=21\n",
            "7*4=28\n",
            "7*5=35\n",
            "7*6=42\n",
            "7*7=49\n",
            "7*8=56\n",
            "7*9=63\n",
            "7*10=70\n",
            "7*11=77\n",
            "7*12=84\n",
            "7*13=91\n",
            "7*14=98\n"
          ]
        }
      ]
    },
    {
      "cell_type": "code",
      "source": [
        "#print multiplies of 7 stop the value is greater than 100\n",
        "i=1\n",
        "while True:\n",
        "    result=7*i\n",
        "    if result>100:\n",
        "        break\n",
        "    print(f\"7*{i}={result}\")\n",
        "    i+=1"
      ],
      "metadata": {
        "colab": {
          "base_uri": "https://localhost:8080/"
        },
        "id": "VP-GrpthANTq",
        "outputId": "b5432b7d-cb98-42bd-e105-c666c3122529"
      },
      "execution_count": null,
      "outputs": [
        {
          "output_type": "stream",
          "name": "stdout",
          "text": [
            "7*1=7\n",
            "7*2=14\n",
            "7*3=21\n",
            "7*4=28\n",
            "7*5=35\n",
            "7*6=42\n",
            "7*7=49\n",
            "7*8=56\n",
            "7*9=63\n",
            "7*10=70\n",
            "7*11=77\n",
            "7*12=84\n",
            "7*13=91\n",
            "7*14=98\n"
          ]
        }
      ]
    },
    {
      "cell_type": "markdown",
      "source": [
        "Assignment 3"
      ],
      "metadata": {
        "id": "v1y3Knl_AxL4"
      }
    },
    {
      "cell_type": "code",
      "source": [
        "#REVERSE WORDS IN SENTENCE\n",
        "sentence=\"i love python\"\n",
        "words=sentence.split()\n",
        "words.reverse()\n",
        "reversed_sentence=' '.join(words)\n",
        "print(reversed_sentence)"
      ],
      "metadata": {
        "colab": {
          "base_uri": "https://localhost:8080/"
        },
        "id": "zMde7Et_BI6U",
        "outputId": "7757714f-509f-4a52-d477-e319e98a010e"
      },
      "execution_count": null,
      "outputs": [
        {
          "output_type": "stream",
          "name": "stdout",
          "text": [
            "python love i\n"
          ]
        }
      ]
    },
    {
      "cell_type": "code",
      "source": [
        "#COUNT CONSONANTS:\n",
        "string=\"hello world\"\n",
        "vowels='aeiouAEIOU'\n",
        "count=0\n",
        "for ch in string:\n",
        "    if ch.isalpha() and ch not in vowels:\n",
        "        count+=1\n",
        "print(count)"
      ],
      "metadata": {
        "colab": {
          "base_uri": "https://localhost:8080/"
        },
        "id": "LLMR8iHKBkQ3",
        "outputId": "fb87a8ca-f7dd-4fbb-a8de-93ab751640a2"
      },
      "execution_count": null,
      "outputs": [
        {
          "output_type": "stream",
          "name": "stdout",
          "text": [
            "7\n"
          ]
        }
      ]
    },
    {
      "cell_type": "code",
      "source": [
        "#CHECK IF TWO STRINGS ARE ANAGRAMS\n",
        "s1=\"Listen\"\n",
        "s2=\"Silent\"\n",
        "s1_sorted=sorted(s1.lower())\n",
        "s2_sorted=sorted(s2.lower())\n",
        "if s1_sorted==s2_sorted:\n",
        "    print(\"Anagram\")\n",
        "else:\n",
        "    print(\"Not Anagram\")"
      ],
      "metadata": {
        "colab": {
          "base_uri": "https://localhost:8080/"
        },
        "id": "nm2LjSP7Bt_A",
        "outputId": "e748b248-1add-4c0b-9542-3ad7ceda9491"
      },
      "execution_count": null,
      "outputs": [
        {
          "output_type": "stream",
          "name": "stdout",
          "text": [
            "Anagram\n"
          ]
        }
      ]
    },
    {
      "cell_type": "code",
      "source": [
        "#FIRST UNIQUE CHARACTER\n",
        "string=\"swiss\"\n",
        "for ch in string:\n",
        "    if string.count(ch)==1:\n",
        "        print(ch)\n",
        "        break\n"
      ],
      "metadata": {
        "colab": {
          "base_uri": "https://localhost:8080/"
        },
        "id": "JwRjDg2fB3BW",
        "outputId": "d6628469-b45f-4d35-dac3-c834ab727eda"
      },
      "execution_count": null,
      "outputs": [
        {
          "output_type": "stream",
          "name": "stdout",
          "text": [
            "w\n"
          ]
        }
      ]
    },
    {
      "cell_type": "code",
      "source": [
        "#COMPRESS STRING\n",
        "s=\"aaabbc\"\n",
        "compressed=\"\"\n",
        "i=0\n",
        "while i<len(s):\n",
        "    count=1\n",
        "    while i+1<len(s) and s[i]==s[i+1]:\n",
        "        count+=1\n",
        "        i+=1\n",
        "    compressed+=s[i]+str(count)\n",
        "    i+=1\n",
        "if len(compressed)<len(s):\n",
        "    print(compressed)\n",
        "else:\n",
        "    print(s)\n"
      ],
      "metadata": {
        "colab": {
          "base_uri": "https://localhost:8080/"
        },
        "id": "AbCIp37PCrnx",
        "outputId": "d74542ae-d313-4d17-a942-a78ee9f26e1b"
      },
      "execution_count": null,
      "outputs": [
        {
          "output_type": "stream",
          "name": "stdout",
          "text": [
            "aaabbc\n"
          ]
        }
      ]
    },
    {
      "cell_type": "code",
      "source": [
        "#LONGEST PALINDROMIC SUBSTRING:\n",
        "s=\"babad\"\n",
        "max_len=0\n",
        "result=\"\"\n",
        "for i in range(len(s)):\n",
        "    for j in range(i+1,len(s)+1):\n",
        "        substr=s[i:j]\n",
        "        if substr==substr[::-1] and len(substr)>max_len:\n",
        "            result=substr\n",
        "            max_len=len(substr)\n",
        "print(result)\n"
      ],
      "metadata": {
        "id": "fpC4chw5DLVZ"
      },
      "execution_count": null,
      "outputs": []
    },
    {
      "cell_type": "code",
      "source": [
        "#VALID PARENTHESES\n",
        "s=\"({[]})\"\n",
        "stack=[]\n",
        "mapping={')':'(','}':'{',']':'['}\n",
        "valid=True\n",
        "for ch in s:\n",
        "    if ch in mapping.values():\n",
        "        stack.append(ch)\n",
        "    elif ch in mapping:\n",
        "        if not stack or stack.pop()!=mapping[ch]:\n",
        "            valid=False\n",
        "            break\n",
        "if stack:\n",
        "    valid=False\n",
        "print(\"valid\"if valid else\"invalid\")\n"
      ],
      "metadata": {
        "colab": {
          "base_uri": "https://localhost:8080/"
        },
        "id": "vtbXb3GQDb0S",
        "outputId": "f9a037d0-9765-4ae4-867c-12e48cdf79d4"
      },
      "execution_count": null,
      "outputs": [
        {
          "output_type": "stream",
          "name": "stdout",
          "text": [
            "valid\n"
          ]
        }
      ]
    },
    {
      "cell_type": "code",
      "source": [
        "#word ladder transformation steps\n",
        "from collections import deque\n",
        "start=\"hit\"\n",
        "end=\"cog\"\n",
        "wordlist=[\"hot\",\"dot\",\"dog\",\"lot\",\"log\",\"cog\"]\n",
        "wordSet=set(wordlist)\n",
        "queue=deque([(start,1)])\n",
        "while queue:\n",
        "    word,steps=queue.popleft()\n",
        "    if word==end:\n",
        "        print(steps)\n",
        "        break\n",
        "    for i in range(len(word)):\n",
        "        for c in'abcdefghijklmnopqrstuvwxyz':\n",
        "           next_word=word[:i]+c+word[i+1:]\n",
        "           if next_word in wordSet:\n",
        "             wordSet.remove(next_word)\n",
        "             queue.append((next_word,steps+1))\n",
        "else:\n",
        "    print(0)\n"
      ],
      "metadata": {
        "colab": {
          "base_uri": "https://localhost:8080/"
        },
        "id": "jqrYNS3rDe2S",
        "outputId": "02279445-138f-48e9-870d-bfe194ace5af"
      },
      "execution_count": null,
      "outputs": [
        {
          "output_type": "stream",
          "name": "stdout",
          "text": [
            "5\n"
          ]
        }
      ]
    },
    {
      "cell_type": "markdown",
      "source": [
        "Assignment 4"
      ],
      "metadata": {
        "id": "UcV9AZQ3Dnep"
      }
    },
    {
      "cell_type": "code",
      "source": [
        "Class= {\"student1\":55,\n",
        "       \"student2\":69,\n",
        "       \"student3\":77,\n",
        "       \"student4\":89,\n",
        "       \"student5\":45}\n",
        "print(Class)\n"
      ],
      "metadata": {
        "colab": {
          "base_uri": "https://localhost:8080/"
        },
        "id": "SedGgiRODsFg",
        "outputId": "e7393252-023e-4bf4-d38d-5da57886fada"
      },
      "execution_count": null,
      "outputs": [
        {
          "output_type": "stream",
          "name": "stdout",
          "text": [
            "{'student1': 55, 'student2': 69, 'student3': 77, 'student4': 89, 'student5': 45}\n"
          ]
        }
      ]
    },
    {
      "cell_type": "code",
      "source": [
        "#COUNT THE FREQUENCY OF EACH CHARACTER IN A GIVEN STRING\n",
        "string=\"hello amrit\"\n",
        "freq={}\n",
        "\n",
        "for char in string:\n",
        "    if char!=\" \":\n",
        "        freq[char]=freq.get(char,0)+1\n",
        "print(freq)\n"
      ],
      "metadata": {
        "colab": {
          "base_uri": "https://localhost:8080/"
        },
        "id": "XT-iskhmD5hY",
        "outputId": "fc035bd9-7515-4809-b7e0-a5085c4ae4c7"
      },
      "execution_count": null,
      "outputs": [
        {
          "output_type": "stream",
          "name": "stdout",
          "text": [
            "{'h': 1, 'e': 1, 'l': 2, 'o': 1, 'a': 1, 'm': 1, 'r': 1, 'i': 1, 't': 1}\n"
          ]
        }
      ]
    },
    {
      "cell_type": "code",
      "source": [
        "#PRINT THE NAME OF THE OLDEST PERSON\n",
        "Person={\"person1\":56,\"person2\":33,\"person3\":18,\"person4\":65,\"person5\":40}\n",
        "oldest_person=max(Person,key=Person.get)\n",
        "print(\"the oldest person is:\",oldest_person)\n"
      ],
      "metadata": {
        "colab": {
          "base_uri": "https://localhost:8080/"
        },
        "id": "WfEQk5vdEWan",
        "outputId": "e52d5e8b-640b-4ec5-85ca-55c87b6c086d"
      },
      "execution_count": null,
      "outputs": [
        {
          "output_type": "stream",
          "name": "stdout",
          "text": [
            "the oldest person is: person4\n"
          ]
        }
      ]
    },
    {
      "cell_type": "code",
      "source": [
        "#MERGE TWO DICTIONARIES\n",
        "dict1={\"aman\":1,\"anmol\":2,\"arsh\":3}\n",
        "dict2={\"diljeet\":4,\"dilpreet\":5}\n",
        "dict3=dict1|dict2\n",
        "print(dict3)\n"
      ],
      "metadata": {
        "colab": {
          "base_uri": "https://localhost:8080/"
        },
        "id": "5DzbvtnbEdzG",
        "outputId": "350f3323-89c1-4ef0-8e50-08c0ba6998c2"
      },
      "execution_count": null,
      "outputs": [
        {
          "output_type": "stream",
          "name": "stdout",
          "text": [
            "{'aman': 1, 'anmol': 2, 'arsh': 3, 'diljeet': 4, 'dilpreet': 5}\n"
          ]
        }
      ]
    },
    {
      "cell_type": "code",
      "source": [
        "#KEYS ARE NUMBER BETWEEN 1 TO 10 AND VALUES ARE THEIR SQUARE\n",
        "dict={x:x**2 for x in range(1,11)}\n",
        "print(dict)\n"
      ],
      "metadata": {
        "colab": {
          "base_uri": "https://localhost:8080/"
        },
        "id": "jzsA4kYHE26t",
        "outputId": "c88c9e5e-dd82-45da-a10b-c79586342afd"
      },
      "execution_count": null,
      "outputs": [
        {
          "output_type": "stream",
          "name": "stdout",
          "text": [
            "{1: 1, 2: 4, 3: 9, 4: 16, 5: 25, 6: 36, 7: 49, 8: 64, 9: 81, 10: 100}\n"
          ]
        }
      ]
    },
    {
      "cell_type": "code",
      "source": [
        "#INVERTS A DICTIONARY\n",
        "dict={'a':1,'b':2,'c':3,'d':4}\n",
        "inverted_dict={value:key for key,value in dict.items()}\n",
        "print(\"inverted dictionary is:\",inverted_dict)\n"
      ],
      "metadata": {
        "colab": {
          "base_uri": "https://localhost:8080/"
        },
        "id": "Cos2fHi2E-zV",
        "outputId": "0205755f-011f-488c-ebc0-10ccf4341bfe"
      },
      "execution_count": null,
      "outputs": [
        {
          "output_type": "stream",
          "name": "stdout",
          "text": [
            "inverted dictionary is: {1: 'a', 2: 'b', 3: 'c', 4: 'd'}\n"
          ]
        }
      ]
    },
    {
      "cell_type": "code",
      "source": [
        "#NESTED DICTIONARY OF STUDENTS AND THEIR SUBJECT WISE MARKS.CALCULATE AND PRINT AVERAGE MARKS FOR STUDENT\n",
        "students={\"student1\":{'eng':55,'pbi':44,'math':60,'sci':33,'sst':44},\n",
        "          \"student2\":{'eng':45,'pbi':74,'math':60,'sci':83,'sst':94},\n",
        "          \"student3\":{'eng':57,'pbi':94,'math':40,'sci':53,'sst':34},\n",
        "          \"student4\":{'eng':45,'pbi':54,'math':50,'sci':43,'sst':54},\n",
        "          }\n",
        "for name,subjects in students.items():\n",
        "    avg=sum(subjects.values())/len(subjects)\n",
        "    print(name,\"average is\",avg)\n"
      ],
      "metadata": {
        "colab": {
          "base_uri": "https://localhost:8080/"
        },
        "id": "F8AQUUE3FUy0",
        "outputId": "39ecee18-bdcd-4bad-f927-1dbb49f83eea"
      },
      "execution_count": null,
      "outputs": [
        {
          "output_type": "stream",
          "name": "stdout",
          "text": [
            "student1 average is 47.2\n",
            "student2 average is 71.2\n",
            "student3 average is 55.6\n",
            "student4 average is 49.2\n"
          ]
        }
      ]
    },
    {
      "cell_type": "code",
      "source": [
        "#GROUP WORDS BY THEIR LENGTH FROM A LIST USING DICTIONARY\n",
        "list=['apple','banana','orange','guava','papaya','kiwi','chiku']\n",
        "group={}\n",
        "for word in list:\n",
        "    l=len(word)\n",
        "    group.setdefault(l,[]).append(word)\n",
        "print(group)\n"
      ],
      "metadata": {
        "colab": {
          "base_uri": "https://localhost:8080/"
        },
        "id": "CQWyZ_w7FflT",
        "outputId": "6f41e60d-10cd-47c9-bb17-8dbdd81f5148"
      },
      "execution_count": null,
      "outputs": [
        {
          "output_type": "stream",
          "name": "stdout",
          "text": [
            "{5: ['apple', 'guava', 'chiku'], 6: ['banana', 'orange', 'papaya'], 4: ['kiwi']}\n"
          ]
        }
      ]
    },
    {
      "cell_type": "code",
      "source": [
        "#Create a program that takes a list of tuples (name, score) and builds a dictionary\n",
        "#where each name is a key, and the value is a list of all their scores. Then calculate and print\n",
        "#each person's average score.\n",
        "list=[('aman',78),('avrit',44),('komal',55),('dilpreet',66),\n",
        "      ('aman',78),('avrit',44),('komal',55),('dilpreet',66)]\n",
        "score_dict={}\n",
        "for name,score in list:\n",
        "    if name in score_dict:\n",
        "        score_dict[name].append(score)\n",
        "    else:\n",
        "        score_dict[name]=[score]\n",
        "print(score_dict)\n",
        "for name,score in score_dict.items():\n",
        "    avg=sum(score)/len(score)\n",
        "    print(name,\"average is\",avg)\n"
      ],
      "metadata": {
        "colab": {
          "base_uri": "https://localhost:8080/"
        },
        "id": "frEMNghcF0iL",
        "outputId": "d96e5316-0140-4e71-cf67-8d3df87232c0"
      },
      "execution_count": null,
      "outputs": [
        {
          "output_type": "stream",
          "name": "stdout",
          "text": [
            "{'aman': [78, 78], 'avrit': [44, 44], 'komal': [55, 55], 'dilpreet': [66, 66]}\n",
            "aman average is 78.0\n",
            "avrit average is 44.0\n",
            "komal average is 55.0\n",
            "dilpreet average is 66.0\n"
          ]
        }
      ]
    },
    {
      "cell_type": "markdown",
      "source": [
        "Assignment 5"
      ],
      "metadata": {
        "id": "ZVb17pQLF_wS"
      }
    },
    {
      "cell_type": "code",
      "source": [
        "#wap to make a pyramid\n",
        "rows=int(input(\"enter the number of rows:\"))\n",
        "for i in range(1,rows+1):\n",
        "    print(\" \"*(rows-i),end=\"\")\n",
        "    print(\"*\"*(2*i-1))\n"
      ],
      "metadata": {
        "colab": {
          "base_uri": "https://localhost:8080/"
        },
        "id": "dKQIMpyRGE0S",
        "outputId": "b9570ee6-dad0-452c-d0a0-56921807d268"
      },
      "execution_count": null,
      "outputs": [
        {
          "output_type": "stream",
          "name": "stdout",
          "text": [
            "enter the number of rows:5\n",
            "    *\n",
            "   ***\n",
            "  *****\n",
            " *******\n",
            "*********\n"
          ]
        }
      ]
    },
    {
      "cell_type": "code",
      "source": [
        "#create a pattern\n",
        "rows=int(input(\"enter the number of rows:\"))\n",
        "for i in range(1,rows+1):\n",
        "    print(\"*\"*i)\n"
      ],
      "metadata": {
        "colab": {
          "base_uri": "https://localhost:8080/"
        },
        "id": "uUUTNJ2eGSL5",
        "outputId": "a9cf9c84-8c6d-4d21-d120-c4b0f3635967"
      },
      "execution_count": null,
      "outputs": [
        {
          "output_type": "stream",
          "name": "stdout",
          "text": [
            "enter the number of rows:4\n",
            "*\n",
            "**\n",
            "***\n",
            "****\n"
          ]
        }
      ]
    },
    {
      "cell_type": "code",
      "source": [
        "#create a square pattern\n",
        "size=int(input(\"enter the size of square:\"))\n",
        "for i in range(size):\n",
        "    print(\"*\"*size)\n"
      ],
      "metadata": {
        "colab": {
          "base_uri": "https://localhost:8080/"
        },
        "id": "mLizeOAaGe05",
        "outputId": "0b32530e-5069-4d23-8cd2-2938943cd681"
      },
      "execution_count": null,
      "outputs": [
        {
          "output_type": "stream",
          "name": "stdout",
          "text": [
            "enter the size of square:4\n",
            "****\n",
            "****\n",
            "****\n",
            "****\n"
          ]
        }
      ]
    },
    {
      "cell_type": "code",
      "source": [
        "#create a circular pattern\n",
        "import math\n",
        "radius=int(input(\"enter radius of the circle:\"))\n",
        "for y in range(-radius,radius+1):\n",
        "    for x in range(-radius,radius+1):\n",
        "        if abs(x**2+y**2-radius**2)<radius:\n",
        "            print(\"*\",end=\"\")\n",
        "        else:\n",
        "            print(\" \",end=\"\")\n",
        "    print()\n"
      ],
      "metadata": {
        "colab": {
          "base_uri": "https://localhost:8080/"
        },
        "id": "42aiE-D0GoVg",
        "outputId": "567a46ac-06b3-4892-df38-3feb7be6fba2"
      },
      "execution_count": null,
      "outputs": [
        {
          "output_type": "stream",
          "name": "stdout",
          "text": [
            "enter radius of the circle:4\n",
            "   ***   \n",
            " **   ** \n",
            " *     * \n",
            "*       *\n",
            "*       *\n",
            "*       *\n",
            " *     * \n",
            " **   ** \n",
            "   ***   \n"
          ]
        }
      ]
    },
    {
      "cell_type": "code",
      "source": [
        "#create a rectangular pattern\n",
        "rows=int(input(\"enter the number of rows:\"))\n",
        "columns=int(input(\"enter the number of columns:\"))\n",
        "for i in range(rows):\n",
        "    print(\"*\"*columns)\n"
      ],
      "metadata": {
        "colab": {
          "base_uri": "https://localhost:8080/"
        },
        "id": "dDwjgxyBHEiv",
        "outputId": "7b6aa29a-f6aa-4160-a5ea-7e3fa887af4f"
      },
      "execution_count": null,
      "outputs": [
        {
          "output_type": "stream",
          "name": "stdout",
          "text": [
            "enter the number of rows:4\n",
            "enter the number of columns:5\n",
            "*****\n",
            "*****\n",
            "*****\n",
            "*****\n"
          ]
        }
      ]
    },
    {
      "cell_type": "markdown",
      "source": [
        "Assignment 6"
      ],
      "metadata": {
        "id": "4VYsv6j_HPXn"
      }
    },
    {
      "cell_type": "code",
      "source": [
        "#TO CREATE A TULE WITH DIFFERENT DATA TYPES AND PRINT ITS TYPE\n",
        "tuple=(\"hello\",2,3.14,True)\n",
        "print(tuple)\n",
        "print(\"type:\",type(tuple))\n"
      ],
      "metadata": {
        "id": "wNKTqkBuHU4n",
        "colab": {
          "base_uri": "https://localhost:8080/"
        },
        "outputId": "73141d09-024b-4e57-cb31-b45faf8c2d24"
      },
      "execution_count": null,
      "outputs": [
        {
          "output_type": "stream",
          "name": "stdout",
          "text": [
            "('hello', 2, 3.14, True)\n",
            "type: <class 'tuple'>\n"
          ]
        }
      ]
    },
    {
      "cell_type": "code",
      "source": [
        "#GIVEN A TUPLE t=(10,20,30,40,50),write a program to access the second last element\n",
        "t=(10,20,30,40,50)\n",
        "second_last_element=t[-2]\n",
        "print(\"second last element is:\",second_last_element)\n"
      ],
      "metadata": {
        "colab": {
          "base_uri": "https://localhost:8080/"
        },
        "id": "d61i5q-psjFF",
        "outputId": "15913953-b239-4db1-fef1-1186ed170c9a"
      },
      "execution_count": null,
      "outputs": [
        {
          "output_type": "stream",
          "name": "stdout",
          "text": [
            "second last element is: 40\n"
          ]
        }
      ]
    },
    {
      "cell_type": "code",
      "source": [
        "#to count number of times a given element appears in a tuple\n",
        "tuple=(2,5,6,4,8,10,4,6,6,9,10)\n",
        "t=tuple.count(6)\n",
        "print(t)\n"
      ],
      "metadata": {
        "colab": {
          "base_uri": "https://localhost:8080/"
        },
        "id": "cY9OmUvksvS0",
        "outputId": "26de3dc7-6c9c-4793-8909-467cabed5c51"
      },
      "execution_count": null,
      "outputs": [
        {
          "output_type": "stream",
          "name": "stdout",
          "text": [
            "3\n"
          ]
        }
      ]
    },
    {
      "cell_type": "code",
      "source": [
        "#to convert a tuple of strings into a single string.example:('python','is','fun')\n",
        "tuple=('python','is','fun')\n",
        "single_string=' '.join(tuple)\n",
        "print(single_string)\n"
      ],
      "metadata": {
        "colab": {
          "base_uri": "https://localhost:8080/"
        },
        "id": "YGGJgVuHs2v5",
        "outputId": "5099812c-6f43-47c0-ed6d-a54a6308b034"
      },
      "execution_count": null,
      "outputs": [
        {
          "output_type": "stream",
          "name": "stdout",
          "text": [
            "python is fun\n"
          ]
        }
      ]
    },
    {
      "cell_type": "code",
      "source": [
        "#to find the index of an element in a tuple\n",
        "tuple=(2,5,6,8,9,10)\n",
        "t=tuple.index(9)\n",
        "print(t)\n"
      ],
      "metadata": {
        "colab": {
          "base_uri": "https://localhost:8080/"
        },
        "id": "iFig0ZBus-4W",
        "outputId": "e6bc0d6f-1c5c-4adb-d31b-e6cf13b3191b"
      },
      "execution_count": null,
      "outputs": [
        {
          "output_type": "stream",
          "name": "stdout",
          "text": [
            "4\n"
          ]
        }
      ]
    },
    {
      "cell_type": "code",
      "source": [
        "#create two sets and perform union,intersection,and difference operations\n",
        "set1={'apple','mango','banana','orange','chiku'}\n",
        "set2={'muskmelon','strawberry','kiwi','melon'}\n",
        "union=set1.union(set2)\n",
        "print(\"union:\",union)\n",
        "intersection=set1.intersection(set2)\n",
        "print(\"intersection:\",intersection)\n",
        "difference=set1.difference(set2)\n",
        "print(\"difference:\",difference)\n"
      ],
      "metadata": {
        "colab": {
          "base_uri": "https://localhost:8080/"
        },
        "id": "DSfVeu0utHCy",
        "outputId": "57110a12-1bf7-4728-d477-0aaba9889db9"
      },
      "execution_count": null,
      "outputs": [
        {
          "output_type": "stream",
          "name": "stdout",
          "text": [
            "union: {'orange', 'banana', 'apple', 'mango', 'melon', 'chiku', 'strawberry', 'muskmelon', 'kiwi'}\n",
            "intersection: set()\n",
            "difference: {'orange', 'banana', 'apple', 'mango', 'chiku'}\n"
          ]
        }
      ]
    },
    {
      "cell_type": "code",
      "source": [
        "#check if a given element is present in a set or not\n",
        "set1={'apple','banana','mango','watermelon','papaya'}\n",
        "element=input(\"enter an element to check:\")\n",
        "if element in set1:\n",
        "    print(f\"{element} is present in the set\")\n",
        "else:\n",
        "    print(f\"{element} is not present in the set\")\n"
      ],
      "metadata": {
        "colab": {
          "base_uri": "https://localhost:8080/"
        },
        "id": "EAz3WYJ1tTKK",
        "outputId": "02639a96-4f09-4f71-9e90-0b2c4c627d01"
      },
      "execution_count": null,
      "outputs": [
        {
          "output_type": "stream",
          "name": "stdout",
          "text": [
            "enter an element to check:kiwi\n",
            "kiwi is not present in the set\n"
          ]
        }
      ]
    },
    {
      "cell_type": "code",
      "source": [
        "#to remove duplicate elements from a list using a set\n",
        "my_list=[10,20,30,40,50,10,20,20,90]\n",
        "unique_list= list(set(my_list))\n",
        "print(\"original list:\",my_list)\n",
        "print(\"list after removing duplicates:\",unique_list)\n"
      ],
      "metadata": {
        "colab": {
          "base_uri": "https://localhost:8080/"
        },
        "id": "zpbohgKjtgiy",
        "outputId": "26ed5ae2-f57e-405d-ee7d-98561cf371a6"
      },
      "execution_count": null,
      "outputs": [
        {
          "output_type": "stream",
          "name": "stdout",
          "text": [
            "original list: [10, 20, 30, 40, 50, 10, 20, 20, 90]\n",
            "list after removing duplicates: [40, 10, 50, 20, 90, 30]\n"
          ]
        }
      ]
    },
    {
      "cell_type": "code",
      "source": [
        "#find symmetric difference between two sets\n",
        "set1={'apple','mango','orange','kiwi','melon'}\n",
        "set2={'strawberry','kiwi','watermelon'}\n",
        "symmetric_diff=set1.symmetric_difference(set2)\n",
        "print(symmetric_diff)\n"
      ],
      "metadata": {
        "colab": {
          "base_uri": "https://localhost:8080/"
        },
        "id": "NOlolRZHtoXD",
        "outputId": "23ab61ad-3396-431b-d678-680af51ea321"
      },
      "execution_count": null,
      "outputs": [
        {
          "output_type": "stream",
          "name": "stdout",
          "text": [
            "{'orange', 'apple', 'mango', 'strawberry', 'watermelon', 'melon'}\n"
          ]
        }
      ]
    },
    {
      "cell_type": "code",
      "source": [
        "#given a list of numbers,write a python program to find all unique elements using sets\n",
        "#python now thinks set is a dictionary,not the actual built.in set() function.\n",
        "list=[2,1,3,5,6,2,4,8,9,10,5,6,7]\n",
        "unique_elements=set(list)\n",
        "print(\"unique elements are:\",unique_elements)\n"
      ],
      "metadata": {
        "colab": {
          "base_uri": "https://localhost:8080/"
        },
        "id": "6H0U1Fp-txq5",
        "outputId": "466b08a4-971a-4346-d5e6-96b74348280c"
      },
      "execution_count": null,
      "outputs": [
        {
          "output_type": "stream",
          "name": "stdout",
          "text": [
            "unique elements are: {1, 2, 3, 4, 5, 6, 7, 8, 9, 10}\n"
          ]
        }
      ]
    },
    {
      "cell_type": "markdown",
      "source": [
        "Assignment 7"
      ],
      "metadata": {
        "id": "H8zYaqMCt86Y"
      }
    },
    {
      "cell_type": "code",
      "source": [
        "#Write a function to find the factorial of a number using recursion\n",
        "def fact(n):\n",
        "    if n<0:\n",
        "        return \"factorial is not defined for negative numbers\"\n",
        "    elif n==0 or n==1:\n",
        "        return 1\n",
        "    else:\n",
        "        result=1\n",
        "        for i in range(2,n+1):\n",
        "            result*=i\n",
        "        return result\n",
        "print(fact(8))\n"
      ],
      "metadata": {
        "colab": {
          "base_uri": "https://localhost:8080/"
        },
        "id": "Fv9b4FTtuAji",
        "outputId": "34efe52f-c340-4537-80e7-3524e5167b60"
      },
      "execution_count": null,
      "outputs": [
        {
          "output_type": "stream",
          "name": "stdout",
          "text": [
            "40320\n"
          ]
        }
      ]
    },
    {
      "cell_type": "code",
      "source": [
        "#Write a function that checks whether a number is prime or not\n",
        "def is_prime(n):\n",
        "    if n<=1:\n",
        "        return False\n",
        "    for i in range(2,int(n**0.5)+1):\n",
        "        if n%i==0:\n",
        "            return False\n",
        "    return True\n",
        "print(is_prime(7))\n"
      ],
      "metadata": {
        "colab": {
          "base_uri": "https://localhost:8080/"
        },
        "id": "qm9IBRzWuONY",
        "outputId": "6c15d784-cf15-4cfa-f4b7-fd4742d6f671"
      },
      "execution_count": null,
      "outputs": [
        {
          "output_type": "stream",
          "name": "stdout",
          "text": [
            "True\n"
          ]
        }
      ]
    },
    {
      "cell_type": "code",
      "source": [
        "#Create a function that takes a string as input and returns the\n",
        "# number of vowels in it.\n",
        "def count_vowels(s):\n",
        "    vowels='aeiouAEIOU'\n",
        "    count=0\n",
        "    for char in s:\n",
        "        if char in vowels:\n",
        "            count+=1\n",
        "    return count\n",
        "text=input(\"enter the string:\")\n",
        "print(\"Number of vowels:\",count_vowels(text))\n"
      ],
      "metadata": {
        "colab": {
          "base_uri": "https://localhost:8080/"
        },
        "id": "XLROR7u0uWvc",
        "outputId": "a000ee33-6227-41fb-9e8f-0f7fa2827f60"
      },
      "execution_count": null,
      "outputs": [
        {
          "output_type": "stream",
          "name": "stdout",
          "text": [
            "enter the string:amritpreet kaur\n",
            "Number of vowels: 6\n"
          ]
        }
      ]
    },
    {
      "cell_type": "code",
      "source": [
        "#Write a function that accepts a list of numbers and\n",
        "# returns the maximum and minimum values.\n",
        "def max_min(number):\n",
        "    maxi=max(number)\n",
        "    mini=min(number)\n",
        "    return maxi,mini\n",
        "x=list(map(int,input(\"enter a list of numbers separated by comma(,):\").split(\",\")))\n",
        "maxi,mini=max_min(x)\n",
        "print(f\"maximum value:{maxi}\")\n",
        "print(f\"minimum value:{mini}\")\n"
      ],
      "metadata": {
        "colab": {
          "base_uri": "https://localhost:8080/"
        },
        "id": "3aQ-rymSulJ3",
        "outputId": "20fda0a2-ca96-486c-f97b-41c6a15c61f0"
      },
      "execution_count": null,
      "outputs": [
        {
          "output_type": "stream",
          "name": "stdout",
          "text": [
            "enter a list of numbers separated by comma(,):1,2,44,555\n",
            "maximum value:555\n",
            "minimum value:1\n"
          ]
        }
      ]
    },
    {
      "cell_type": "code",
      "source": [
        "#Write a Python function to calculate the nth Fibonacci number using recursion\n",
        "def fibonacci(n):\n",
        "    if n<=0:\n",
        "        return 0\n",
        "    elif n==1:\n",
        "        return 1\n",
        "    else:\n",
        "        return fibonacci(n-1)+fibonacci(n-2)\n",
        "n=int(input(\"enter any number:\"))\n",
        "print(f\"the{n}th fibonacci number is:\",fibonacci(n))\n"
      ],
      "metadata": {
        "colab": {
          "base_uri": "https://localhost:8080/"
        },
        "id": "ZLOb3gx0wsQW",
        "outputId": "88fe9cfa-8dec-424a-9d7e-7ce839e38718"
      },
      "execution_count": null,
      "outputs": [
        {
          "output_type": "stream",
          "name": "stdout",
          "text": [
            "enter any number:33\n",
            "the33th fibonacci number is: 3524578\n"
          ]
        }
      ]
    },
    {
      "cell_type": "code",
      "source": [
        "# Create a function that accepts two numbers and returns\n",
        "#  their greatest common divisor (GCD).\n",
        "import math\n",
        "def gcd(a,b):\n",
        "    return math.gcd(a,b)\n",
        "num1=int(input(\"enter the num1:\"))\n",
        "num2=int(input(\"enter the num2:\"))\n",
        "print(\"GCD IS:\",gcd(num1,num2))\n"
      ],
      "metadata": {
        "colab": {
          "base_uri": "https://localhost:8080/"
        },
        "id": "4CxhbDAjwxkZ",
        "outputId": "90375ce1-f88e-4c39-99e1-de3cd471f988"
      },
      "execution_count": null,
      "outputs": [
        {
          "output_type": "stream",
          "name": "stdout",
          "text": [
            "enter the num1:36\n",
            "enter the num2:64\n",
            "GCD IS: 4\n"
          ]
        }
      ]
    },
    {
      "cell_type": "code",
      "source": [
        "# Write a function that takes a list and returns a new list\n",
        "# with only unique elements\n",
        "def unique_elements(list1):\n",
        "    return list(set(list1))\n",
        "my_list=list(input(\"enter a list separated by a comma(,):\").split(','))\n",
        "print(f\"unique elements is:{unique_elements(my_list)}\")\n"
      ],
      "metadata": {
        "colab": {
          "base_uri": "https://localhost:8080/"
        },
        "id": "gaMwRmoBw-A2",
        "outputId": "1013072a-0336-4b15-d408-9400b84cd47a"
      },
      "execution_count": null,
      "outputs": [
        {
          "output_type": "stream",
          "name": "stdout",
          "text": [
            "enter a list separated by a comma(,):2,44,44,55,79,79,90\n",
            "unique elements is:['55', '44', '79', '2', '90']\n"
          ]
        }
      ]
    },
    {
      "cell_type": "code",
      "source": [
        "# Write a function to count the frequency of each word in a given string\n",
        "def word_frequency(s):\n",
        "    words=s.split()\n",
        "    freq={}\n",
        "    for word in words:\n",
        "        word=word.lower()\n",
        "        freq[word]=freq.get(word,0)+1\n",
        "    return freq\n",
        "text=input(\"enter a string separated by a space:\")\n",
        "print(word_frequency(text))\n"
      ],
      "metadata": {
        "colab": {
          "base_uri": "https://localhost:8080/"
        },
        "id": "WUM3Q7dvxPIA",
        "outputId": "66b00322-b582-491f-9e66-d7cc23de03d0"
      },
      "execution_count": null,
      "outputs": [
        {
          "output_type": "stream",
          "name": "stdout",
          "text": [
            "enter a string separated by a space:THE cat this is the cat\n",
            "{'the': 2, 'cat': 2, 'this': 1, 'is': 1}\n"
          ]
        }
      ]
    },
    {
      "cell_type": "code",
      "source": [
        "# Write a function that takes a number and returns True\n",
        "# if it is a palindrome, otherwise False\n",
        "def is_pallindrome(n):\n",
        "    s=str(n)\n",
        "    return s==s[::-1]\n",
        "number=int(input(\"enter the number:\"))\n",
        "print(is_pallindrome(number))\n"
      ],
      "metadata": {
        "colab": {
          "base_uri": "https://localhost:8080/"
        },
        "id": "lU88Ee_5xfjD",
        "outputId": "5a297c3d-a255-4ee1-dd93-c02fd26e2848"
      },
      "execution_count": null,
      "outputs": [
        {
          "output_type": "stream",
          "name": "stdout",
          "text": [
            "enter the number:121\n",
            "True\n"
          ]
        }
      ]
    },
    {
      "cell_type": "code",
      "source": [
        "#Create a function that takes a temperature in Celsius and\n",
        "#  returns it in Fahrenheit\n",
        "def celsius_to_fahrenheit(celsius):\n",
        "    return ((celsius*9/5)+32)\n",
        "temp=int(input(\"enter the temperatue:\"))\n",
        "print(\"fahrenheit is:\",celsius_to_fahrenheit(temp))\n"
      ],
      "metadata": {
        "colab": {
          "base_uri": "https://localhost:8080/"
        },
        "id": "_Fn2ZbmyxqpY",
        "outputId": "745115c0-cbbd-4d76-f243-cf1c02f4e701"
      },
      "execution_count": null,
      "outputs": [
        {
          "output_type": "stream",
          "name": "stdout",
          "text": [
            "enter the temperatue:34\n",
            "fahrenheit is: 93.2\n"
          ]
        }
      ]
    },
    {
      "cell_type": "markdown",
      "source": [
        "Assignment 9\n"
      ],
      "metadata": {
        "id": "BAOKHySMx1f-"
      }
    },
    {
      "cell_type": "code",
      "source": [],
      "metadata": {
        "id": "6J9aT6k98mzZ"
      },
      "execution_count": null,
      "outputs": []
    },
    {
      "cell_type": "code",
      "source": [],
      "metadata": {
        "id": "Cw4Y3Ehjx7dG"
      },
      "execution_count": null,
      "outputs": []
    }
  ]
}