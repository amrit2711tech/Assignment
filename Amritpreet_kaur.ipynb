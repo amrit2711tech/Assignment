{
  "nbformat": 4,
  "nbformat_minor": 0,
  "metadata": {
    "colab": {
      "provenance": [],
      "toc_visible": true,
      "include_colab_link": true
    },
    "kernelspec": {
      "name": "python3",
      "display_name": "Python 3"
    },
    "language_info": {
      "name": "python"
    }
  },
  "cells": [
    {
      "cell_type": "markdown",
      "metadata": {
        "id": "view-in-github",
        "colab_type": "text"
      },
      "source": [
        "<a href=\"https://colab.research.google.com/github/amrit2711tech/Assignment/blob/main/Amritpreet_kaur.ipynb\" target=\"_parent\"><img src=\"https://colab.research.google.com/assets/colab-badge.svg\" alt=\"Open In Colab\"/></a>"
      ]
    },
    {
      "cell_type": "code",
      "source": [
        "print(\"hello world\")"
      ],
      "metadata": {
        "id": "_KlgL9vVtqKq",
        "colab": {
          "base_uri": "https://localhost:8080/"
        },
        "outputId": "b9674157-bd7d-4efe-d0ff-0b3e2477bbad"
      },
      "execution_count": null,
      "outputs": [
        {
          "output_type": "stream",
          "name": "stdout",
          "text": [
            "hello world\n"
          ]
        }
      ]
    },
    {
      "cell_type": "markdown",
      "source": [
        "Assignment No. 1"
      ],
      "metadata": {
        "id": "BGhTD1rz82SO"
      }
    },
    {
      "cell_type": "code",
      "source": [
        "#Create variables to store your name (string), age (integer), and course (string). Print all of them\n",
        "#using a single print() statement.\n",
        "Name, Age, Course=\"amrit\",20,\"Btech\"\n",
        "\n",
        "print(Name,Age,Course)"
      ],
      "metadata": {
        "colab": {
          "base_uri": "https://localhost:8080/"
        },
        "id": "jzdzjUyL86aI",
        "outputId": "cb9e35b4-661b-4b64-c4e7-55c5b0431220"
      },
      "execution_count": null,
      "outputs": [
        {
          "output_type": "stream",
          "name": "stdout",
          "text": [
            "amrit 20 Btech\n"
          ]
        }
      ]
    },
    {
      "cell_type": "code",
      "source": [
        "#Write a program to swap two numbers without using a third variable. Example: a = 4, b = 9.\n",
        "x=4\n",
        "y=9\n",
        "x,y=y,x\n",
        "print(x)"
      ],
      "metadata": {
        "colab": {
          "base_uri": "https://localhost:8080/"
        },
        "id": "DSjMcQkk9AqT",
        "outputId": "b0773130-39c1-431f-b5a2-b2a098bd2e5d"
      },
      "execution_count": null,
      "outputs": [
        {
          "output_type": "stream",
          "name": "stdout",
          "text": [
            "9\n"
          ]
        }
      ]
    },
    {
      "cell_type": "code",
      "source": [
        "#Arithmetic operations\n",
        "x=20\n",
        "y=15\n",
        "\n",
        "print(x+y) #sum\n",
        "print(x-y )#difference\n",
        "print(x/y) #divide\n",
        "print(x%y) #remainder\n",
        "print(x*y) #product"
      ],
      "metadata": {
        "colab": {
          "base_uri": "https://localhost:8080/"
        },
        "id": "nEoaP-n49ER1",
        "outputId": "2cd191bc-4f71-4640-9f0e-566a749487f3"
      },
      "execution_count": null,
      "outputs": [
        {
          "output_type": "stream",
          "name": "stdout",
          "text": [
            "35\n",
            "5\n",
            "1.3333333333333333\n",
            "5\n",
            "300\n"
          ]
        }
      ]
    },
    {
      "cell_type": "code",
      "source": [
        "#Take marks of 5 subjects and calculate the total and percentage\n",
        "a=80 #subject1\n",
        "b=97 #subject2\n",
        "c=78 #subject3\n",
        "d=89 #subject4\n",
        "e=85 #subject5\n",
        "\n",
        "total= a+b+c+d+e\n",
        "print (total)\n",
        "percentage= total/500*100\n",
        "print(percentage)\n"
      ],
      "metadata": {
        "colab": {
          "base_uri": "https://localhost:8080/"
        },
        "id": "WYN2oOGW9Ff7",
        "outputId": "ef50d382-2397-4a1c-a229-7d16b018a177"
      },
      "execution_count": null,
      "outputs": [
        {
          "output_type": "stream",
          "name": "stdout",
          "text": [
            "429\n",
            "85.8\n"
          ]
        }
      ]
    },
    {
      "cell_type": "code",
      "source": [
        "#Use compound assignment operators\n",
        "x = 10\n",
        "print(x)\n",
        "\n",
        "x += 5\n",
        "print(x)\n",
        "\n",
        "x *= 2\n",
        "print(x)\n",
        "\n",
        "x -= 4\n",
        "print(x)\n",
        "\n",
        "x /= 2\n",
        "print(x)\n"
      ],
      "metadata": {
        "colab": {
          "base_uri": "https://localhost:8080/"
        },
        "id": "5rrfT4Uf9KNN",
        "outputId": "4b37af9a-3097-4315-9db4-740c4214b73f"
      },
      "execution_count": null,
      "outputs": [
        {
          "output_type": "stream",
          "name": "stdout",
          "text": [
            "10\n",
            "15\n",
            "30\n",
            "26\n",
            "13.0\n"
          ]
        }
      ]
    },
    {
      "cell_type": "code",
      "source": [
        "#Relational operator check\n",
        "a = 10 # first number\n",
        "b = 7 #second number\n",
        "\n",
        "if a == b:\n",
        "    print(\"Both are equal\")\n",
        "elif a > b:\n",
        "    print(\"First is greater\")\n",
        "else:\n",
        "    print(\"Second is greater\")\n"
      ],
      "metadata": {
        "colab": {
          "base_uri": "https://localhost:8080/"
        },
        "id": "YWXjEJxh9NRI",
        "outputId": "1510469b-9ae7-4e1b-af1e-6a64d7d4d01b"
      },
      "execution_count": null,
      "outputs": [
        {
          "output_type": "stream",
          "name": "stdout",
          "text": [
            "First is greater\n"
          ]
        }
      ]
    },
    {
      "cell_type": "code",
      "source": [
        "# Logical operator challenge\n",
        "is_raining = True\n",
        "have_umbrella = False\n",
        "\n",
        "print(is_raining & have_umbrella)\n",
        "\n",
        "print(is_raining | have_umbrella)\n",
        "\n",
        "if not is_raining or (is_raining and have_umbrella): #not is_raining= false\n",
        "    print(\"You can go outside.\")                     # is_raining and have_umbrella= false then it gives output false\n",
        "else:                                                #false or false gives false\n",
        "    print(\"You cannot go outside.\")"
      ],
      "metadata": {
        "id": "KCi3D7fH-AN_",
        "outputId": "87453f13-8a59-47fb-88e6-8ae2a93a4030",
        "colab": {
          "base_uri": "https://localhost:8080/"
        }
      },
      "execution_count": null,
      "outputs": [
        {
          "output_type": "stream",
          "name": "stdout",
          "text": [
            "False\n",
            "True\n",
            "You cannot go outside.\n"
          ]
        }
      ]
    },
    {
      "cell_type": "code",
      "source": [
        "#Identity operator\n",
        "list1 = [1, 2, 3]\n",
        "list2 = [3, 2, 1]\n",
        "\n",
        "print(list1 == list2)\n",
        "print(list1 is list2)"
      ],
      "metadata": {
        "colab": {
          "base_uri": "https://localhost:8080/"
        },
        "id": "CLZKo88f9Pxf",
        "outputId": "0f64cab2-542b-43e9-fbd0-bd8e02d5a859"
      },
      "execution_count": null,
      "outputs": [
        {
          "output_type": "stream",
          "name": "stdout",
          "text": [
            "False\n",
            "False\n"
          ]
        }
      ]
    },
    {
      "cell_type": "code",
      "source": [
        "#Bitwise operation\n",
        "a=17\n",
        "b=23\n",
        "\n",
        "print(a & b) #AND\n",
        "print(a|b)  #OR\n",
        "print(a^b)   #XOR"
      ],
      "metadata": {
        "colab": {
          "base_uri": "https://localhost:8080/"
        },
        "id": "MQwmzo9-9SNy",
        "outputId": "00920b79-c99d-40d1-841c-4ea98df09894"
      },
      "execution_count": null,
      "outputs": [
        {
          "output_type": "stream",
          "name": "stdout",
          "text": [
            "17\n",
            "23\n",
            "6\n"
          ]
        }
      ]
    },
    {
      "cell_type": "code",
      "source": [
        "# Variable types and typecasting\n",
        "a = 5\n",
        "b =4.5\n",
        "\n",
        "print(\"Type of int_num:\", type(a))\n",
        "print(\"Type of float_num:\", type(b))\n",
        "\n",
        "sum  = a+b\n",
        "print(\"Sum as integer:\",(sum))\n"
      ],
      "metadata": {
        "colab": {
          "base_uri": "https://localhost:8080/"
        },
        "id": "bd_p4Lvp9YK-",
        "outputId": "b080b81f-c09d-49ac-98cf-71b3e38d5a34"
      },
      "execution_count": null,
      "outputs": [
        {
          "output_type": "stream",
          "name": "stdout",
          "text": [
            "Type of int_num: <class 'int'>\n",
            "Type of float_num: <class 'float'>\n",
            "Sum as integer: 9.5\n"
          ]
        }
      ]
    },
    {
      "cell_type": "markdown",
      "source": [
        "Assignment No. 2"
      ],
      "metadata": {
        "id": "6aadUjdZ9ecm"
      }
    },
    {
      "cell_type": "code",
      "source": [
        "#to print number 1 to 10 but stop the loop when number reaches 9\n",
        "for i in range(1,14):\n",
        "    if i==9:\n",
        "        break\n",
        "    print(i)"
      ],
      "metadata": {
        "colab": {
          "base_uri": "https://localhost:8080/"
        },
        "id": "2bbbJEpu9g3I",
        "outputId": "573aded1-8760-4033-e877-ec37f538b238"
      },
      "execution_count": null,
      "outputs": [
        {
          "output_type": "stream",
          "name": "stdout",
          "text": [
            "1\n",
            "2\n",
            "3\n",
            "4\n",
            "5\n",
            "6\n",
            "7\n",
            "8\n"
          ]
        }
      ]
    },
    {
      "cell_type": "code",
      "source": [
        "#enter the number\n",
        "num=int(input(\"enter the number\"))\n",
        "if num>=0:\n",
        "    print(\"enter the number:\",num)\n",
        "else:\n",
        "    print(\"stop,you enter the negative number\",num)"
      ],
      "metadata": {
        "colab": {
          "base_uri": "https://localhost:8080/"
        },
        "id": "avRJqPkJ-c8P",
        "outputId": "6b1dc233-6527-46ff-f463-8b870c10aa1d"
      },
      "execution_count": null,
      "outputs": [
        {
          "output_type": "stream",
          "name": "stdout",
          "text": [
            "enter the number5\n",
            "enter the number: 5\n"
          ]
        }
      ]
    },
    {
      "cell_type": "code",
      "source": [
        "#find first even number in a list\n",
        "list=[1,2,5,8,11,14]\n",
        "for num in list:\n",
        "    if num%2==0:\n",
        "        print(\"first even number is:\",num)\n",
        "        break"
      ],
      "metadata": {
        "colab": {
          "base_uri": "https://localhost:8080/"
        },
        "id": "aIxewzPl-5kF",
        "outputId": "468fa46f-1c34-4c5d-96c9-a1079b8ef20e"
      },
      "execution_count": null,
      "outputs": [
        {
          "output_type": "stream",
          "name": "stdout",
          "text": [
            "first even number is: 2\n"
          ]
        }
      ]
    },
    {
      "cell_type": "code",
      "source": [
        "#sum exceeds 25\n",
        "A=[5,10,5,7,9,11,15]\n",
        "total=0\n",
        "for a in A:\n",
        "    total+=a\n",
        "    if total>=25:\n",
        "        print(\"total sum:\",total)\n",
        "        print(\"last number added:\",a)"
      ],
      "metadata": {
        "colab": {
          "base_uri": "https://localhost:8080/"
        },
        "id": "6WMuw-P4_P00",
        "outputId": "70ec534d-5ba6-4417-9173-349a1dac6052"
      },
      "execution_count": null,
      "outputs": [
        {
          "output_type": "stream",
          "name": "stdout",
          "text": [
            "total sum: 27\n",
            "last number added: 7\n",
            "total sum: 36\n",
            "last number added: 9\n",
            "total sum: 47\n",
            "last number added: 11\n",
            "total sum: 62\n",
            "last number added: 15\n"
          ]
        }
      ]
    },
    {
      "cell_type": "code",
      "source": [
        "#guess da password\n",
        "while True:\n",
        "    password=input(\"enter the password\")\n",
        "    if password==\"admin123\":\n",
        "        print(\"access granted\")\n",
        "        break\n",
        "    else:\n",
        "        print(\"guess the password\")"
      ],
      "metadata": {
        "colab": {
          "base_uri": "https://localhost:8080/"
        },
        "id": "8_SYSrJE_kR0",
        "outputId": "d51eda1c-91fb-4d22-b219-544bffc4434e"
      },
      "execution_count": null,
      "outputs": [
        {
          "output_type": "stream",
          "name": "stdout",
          "text": [
            "enter the passwordadmin123\n",
            "access granted\n"
          ]
        }
      ]
    },
    {
      "cell_type": "code",
      "source": [
        "#print multiplies of 7 stop the value is greater than 100\n",
        "i=1\n",
        "while True:\n",
        "    result=7*i\n",
        "    if result>100:\n",
        "        break\n",
        "    print(f\"7*{i}={result}\")\n",
        "    i+=1"
      ],
      "metadata": {
        "colab": {
          "base_uri": "https://localhost:8080/"
        },
        "id": "3fLsVu0-_yCj",
        "outputId": "ff6961d3-d430-4949-cc1d-22e4acc3013e"
      },
      "execution_count": null,
      "outputs": [
        {
          "output_type": "stream",
          "name": "stdout",
          "text": [
            "7*1=7\n",
            "7*2=14\n",
            "7*3=21\n",
            "7*4=28\n",
            "7*5=35\n",
            "7*6=42\n",
            "7*7=49\n",
            "7*8=56\n",
            "7*9=63\n",
            "7*10=70\n",
            "7*11=77\n",
            "7*12=84\n",
            "7*13=91\n",
            "7*14=98\n"
          ]
        }
      ]
    },
    {
      "cell_type": "code",
      "source": [
        "#print multiplies of 7 stop the value is greater than 100\n",
        "i=1\n",
        "while True:\n",
        "    result=7*i\n",
        "    if result>100:\n",
        "        break\n",
        "    print(f\"7*{i}={result}\")\n",
        "    i+=1"
      ],
      "metadata": {
        "colab": {
          "base_uri": "https://localhost:8080/"
        },
        "id": "VP-GrpthANTq",
        "outputId": "b5432b7d-cb98-42bd-e105-c666c3122529"
      },
      "execution_count": null,
      "outputs": [
        {
          "output_type": "stream",
          "name": "stdout",
          "text": [
            "7*1=7\n",
            "7*2=14\n",
            "7*3=21\n",
            "7*4=28\n",
            "7*5=35\n",
            "7*6=42\n",
            "7*7=49\n",
            "7*8=56\n",
            "7*9=63\n",
            "7*10=70\n",
            "7*11=77\n",
            "7*12=84\n",
            "7*13=91\n",
            "7*14=98\n"
          ]
        }
      ]
    },
    {
      "cell_type": "markdown",
      "source": [
        "Assignment 3"
      ],
      "metadata": {
        "id": "v1y3Knl_AxL4"
      }
    },
    {
      "cell_type": "code",
      "source": [
        "#REVERSE WORDS IN SENTENCE\n",
        "sentence=\"i love python\"\n",
        "words=sentence.split()\n",
        "words.reverse()\n",
        "reversed_sentence=' '.join(words)\n",
        "print(reversed_sentence)"
      ],
      "metadata": {
        "colab": {
          "base_uri": "https://localhost:8080/"
        },
        "id": "zMde7Et_BI6U",
        "outputId": "7757714f-509f-4a52-d477-e319e98a010e"
      },
      "execution_count": null,
      "outputs": [
        {
          "output_type": "stream",
          "name": "stdout",
          "text": [
            "python love i\n"
          ]
        }
      ]
    },
    {
      "cell_type": "code",
      "source": [
        "#COUNT CONSONANTS:\n",
        "string=\"hello world\"\n",
        "vowels='aeiouAEIOU'\n",
        "count=0\n",
        "for ch in string:\n",
        "    if ch.isalpha() and ch not in vowels:\n",
        "        count+=1\n",
        "print(count)"
      ],
      "metadata": {
        "colab": {
          "base_uri": "https://localhost:8080/"
        },
        "id": "LLMR8iHKBkQ3",
        "outputId": "fb87a8ca-f7dd-4fbb-a8de-93ab751640a2"
      },
      "execution_count": null,
      "outputs": [
        {
          "output_type": "stream",
          "name": "stdout",
          "text": [
            "7\n"
          ]
        }
      ]
    },
    {
      "cell_type": "code",
      "source": [
        "#CHECK IF TWO STRINGS ARE ANAGRAMS\n",
        "s1=\"Listen\"\n",
        "s2=\"Silent\"\n",
        "s1_sorted=sorted(s1.lower())\n",
        "s2_sorted=sorted(s2.lower())\n",
        "if s1_sorted==s2_sorted:\n",
        "    print(\"Anagram\")\n",
        "else:\n",
        "    print(\"Not Anagram\")"
      ],
      "metadata": {
        "colab": {
          "base_uri": "https://localhost:8080/"
        },
        "id": "nm2LjSP7Bt_A",
        "outputId": "e748b248-1add-4c0b-9542-3ad7ceda9491"
      },
      "execution_count": null,
      "outputs": [
        {
          "output_type": "stream",
          "name": "stdout",
          "text": [
            "Anagram\n"
          ]
        }
      ]
    },
    {
      "cell_type": "code",
      "source": [
        "#FIRST UNIQUE CHARACTER\n",
        "string=\"swiss\"\n",
        "for ch in string:\n",
        "    if string.count(ch)==1:\n",
        "        print(ch)\n",
        "        break\n"
      ],
      "metadata": {
        "colab": {
          "base_uri": "https://localhost:8080/"
        },
        "id": "JwRjDg2fB3BW",
        "outputId": "d6628469-b45f-4d35-dac3-c834ab727eda"
      },
      "execution_count": null,
      "outputs": [
        {
          "output_type": "stream",
          "name": "stdout",
          "text": [
            "w\n"
          ]
        }
      ]
    },
    {
      "cell_type": "code",
      "source": [
        "#COMPRESS STRING\n",
        "s=\"aaabbc\"\n",
        "compressed=\"\"\n",
        "i=0\n",
        "while i<len(s):\n",
        "    count=1\n",
        "    while i+1<len(s) and s[i]==s[i+1]:\n",
        "        count+=1\n",
        "        i+=1\n",
        "    compressed+=s[i]+str(count)\n",
        "    i+=1\n",
        "if len(compressed)<len(s):\n",
        "    print(compressed)\n",
        "else:\n",
        "    print(s)\n"
      ],
      "metadata": {
        "colab": {
          "base_uri": "https://localhost:8080/"
        },
        "id": "AbCIp37PCrnx",
        "outputId": "d74542ae-d313-4d17-a942-a78ee9f26e1b"
      },
      "execution_count": null,
      "outputs": [
        {
          "output_type": "stream",
          "name": "stdout",
          "text": [
            "aaabbc\n"
          ]
        }
      ]
    },
    {
      "cell_type": "code",
      "source": [
        "#LONGEST PALINDROMIC SUBSTRING:\n",
        "s=\"babad\"\n",
        "max_len=0\n",
        "result=\"\"\n",
        "for i in range(len(s)):\n",
        "    for j in range(i+1,len(s)+1):\n",
        "        substr=s[i:j]\n",
        "        if substr==substr[::-1] and len(substr)>max_len:\n",
        "            result=substr\n",
        "            max_len=len(substr)\n",
        "print(result)\n"
      ],
      "metadata": {
        "id": "fpC4chw5DLVZ"
      },
      "execution_count": null,
      "outputs": []
    },
    {
      "cell_type": "code",
      "source": [
        "#VALID PARENTHESES\n",
        "s=\"({[]})\"\n",
        "stack=[]\n",
        "mapping={')':'(','}':'{',']':'['}\n",
        "valid=True\n",
        "for ch in s:\n",
        "    if ch in mapping.values():\n",
        "        stack.append(ch)\n",
        "    elif ch in mapping:\n",
        "        if not stack or stack.pop()!=mapping[ch]:\n",
        "            valid=False\n",
        "            break\n",
        "if stack:\n",
        "    valid=False\n",
        "print(\"valid\"if valid else\"invalid\")\n"
      ],
      "metadata": {
        "colab": {
          "base_uri": "https://localhost:8080/"
        },
        "id": "vtbXb3GQDb0S",
        "outputId": "f9a037d0-9765-4ae4-867c-12e48cdf79d4"
      },
      "execution_count": null,
      "outputs": [
        {
          "output_type": "stream",
          "name": "stdout",
          "text": [
            "valid\n"
          ]
        }
      ]
    },
    {
      "cell_type": "code",
      "source": [
        "#word ladder transformation steps\n",
        "from collections import deque\n",
        "start=\"hit\"\n",
        "end=\"cog\"\n",
        "wordlist=[\"hot\",\"dot\",\"dog\",\"lot\",\"log\",\"cog\"]\n",
        "wordSet=set(wordlist)\n",
        "queue=deque([(start,1)])\n",
        "while queue:\n",
        "    word,steps=queue.popleft()\n",
        "    if word==end:\n",
        "        print(steps)\n",
        "        break\n",
        "    for i in range(len(word)):\n",
        "        for c in'abcdefghijklmnopqrstuvwxyz':\n",
        "           next_word=word[:i]+c+word[i+1:]\n",
        "           if next_word in wordSet:\n",
        "             wordSet.remove(next_word)\n",
        "             queue.append((next_word,steps+1))\n",
        "else:\n",
        "    print(0)\n"
      ],
      "metadata": {
        "colab": {
          "base_uri": "https://localhost:8080/"
        },
        "id": "jqrYNS3rDe2S",
        "outputId": "02279445-138f-48e9-870d-bfe194ace5af"
      },
      "execution_count": null,
      "outputs": [
        {
          "output_type": "stream",
          "name": "stdout",
          "text": [
            "5\n"
          ]
        }
      ]
    },
    {
      "cell_type": "markdown",
      "source": [
        "Assignment 4"
      ],
      "metadata": {
        "id": "UcV9AZQ3Dnep"
      }
    },
    {
      "cell_type": "code",
      "source": [
        "Class= {\"student1\":55,\n",
        "       \"student2\":69,\n",
        "       \"student3\":77,\n",
        "       \"student4\":89,\n",
        "       \"student5\":45}\n",
        "print(Class)\n"
      ],
      "metadata": {
        "colab": {
          "base_uri": "https://localhost:8080/"
        },
        "id": "SedGgiRODsFg",
        "outputId": "e7393252-023e-4bf4-d38d-5da57886fada"
      },
      "execution_count": null,
      "outputs": [
        {
          "output_type": "stream",
          "name": "stdout",
          "text": [
            "{'student1': 55, 'student2': 69, 'student3': 77, 'student4': 89, 'student5': 45}\n"
          ]
        }
      ]
    },
    {
      "cell_type": "code",
      "source": [
        "#COUNT THE FREQUENCY OF EACH CHARACTER IN A GIVEN STRING\n",
        "string=\"hello amrit\"\n",
        "freq={}\n",
        "\n",
        "for char in string:\n",
        "    if char!=\" \":\n",
        "        freq[char]=freq.get(char,0)+1\n",
        "print(freq)\n"
      ],
      "metadata": {
        "colab": {
          "base_uri": "https://localhost:8080/"
        },
        "id": "XT-iskhmD5hY",
        "outputId": "fc035bd9-7515-4809-b7e0-a5085c4ae4c7"
      },
      "execution_count": null,
      "outputs": [
        {
          "output_type": "stream",
          "name": "stdout",
          "text": [
            "{'h': 1, 'e': 1, 'l': 2, 'o': 1, 'a': 1, 'm': 1, 'r': 1, 'i': 1, 't': 1}\n"
          ]
        }
      ]
    },
    {
      "cell_type": "code",
      "source": [
        "#PRINT THE NAME OF THE OLDEST PERSON\n",
        "Person={\"person1\":56,\"person2\":33,\"person3\":18,\"person4\":65,\"person5\":40}\n",
        "oldest_person=max(Person,key=Person.get)\n",
        "print(\"the oldest person is:\",oldest_person)\n"
      ],
      "metadata": {
        "colab": {
          "base_uri": "https://localhost:8080/"
        },
        "id": "WfEQk5vdEWan",
        "outputId": "e52d5e8b-640b-4ec5-85ca-55c87b6c086d"
      },
      "execution_count": null,
      "outputs": [
        {
          "output_type": "stream",
          "name": "stdout",
          "text": [
            "the oldest person is: person4\n"
          ]
        }
      ]
    },
    {
      "cell_type": "code",
      "source": [
        "#MERGE TWO DICTIONARIES\n",
        "dict1={\"aman\":1,\"anmol\":2,\"arsh\":3}\n",
        "dict2={\"diljeet\":4,\"dilpreet\":5}\n",
        "dict3=dict1|dict2\n",
        "print(dict3)\n"
      ],
      "metadata": {
        "colab": {
          "base_uri": "https://localhost:8080/"
        },
        "id": "5DzbvtnbEdzG",
        "outputId": "350f3323-89c1-4ef0-8e50-08c0ba6998c2"
      },
      "execution_count": null,
      "outputs": [
        {
          "output_type": "stream",
          "name": "stdout",
          "text": [
            "{'aman': 1, 'anmol': 2, 'arsh': 3, 'diljeet': 4, 'dilpreet': 5}\n"
          ]
        }
      ]
    },
    {
      "cell_type": "code",
      "source": [
        "#KEYS ARE NUMBER BETWEEN 1 TO 10 AND VALUES ARE THEIR SQUARE\n",
        "dict={x:x**2 for x in range(1,11)}\n",
        "print(dict)\n"
      ],
      "metadata": {
        "colab": {
          "base_uri": "https://localhost:8080/"
        },
        "id": "jzsA4kYHE26t",
        "outputId": "c88c9e5e-dd82-45da-a10b-c79586342afd"
      },
      "execution_count": null,
      "outputs": [
        {
          "output_type": "stream",
          "name": "stdout",
          "text": [
            "{1: 1, 2: 4, 3: 9, 4: 16, 5: 25, 6: 36, 7: 49, 8: 64, 9: 81, 10: 100}\n"
          ]
        }
      ]
    },
    {
      "cell_type": "code",
      "source": [
        "#INVERTS A DICTIONARY\n",
        "dict={'a':1,'b':2,'c':3,'d':4}\n",
        "inverted_dict={value:key for key,value in dict.items()}\n",
        "print(\"inverted dictionary is:\",inverted_dict)\n"
      ],
      "metadata": {
        "colab": {
          "base_uri": "https://localhost:8080/"
        },
        "id": "Cos2fHi2E-zV",
        "outputId": "0205755f-011f-488c-ebc0-10ccf4341bfe"
      },
      "execution_count": null,
      "outputs": [
        {
          "output_type": "stream",
          "name": "stdout",
          "text": [
            "inverted dictionary is: {1: 'a', 2: 'b', 3: 'c', 4: 'd'}\n"
          ]
        }
      ]
    },
    {
      "cell_type": "code",
      "source": [
        "#NESTED DICTIONARY OF STUDENTS AND THEIR SUBJECT WISE MARKS.CALCULATE AND PRINT AVERAGE MARKS FOR STUDENT\n",
        "students={\"student1\":{'eng':55,'pbi':44,'math':60,'sci':33,'sst':44},\n",
        "          \"student2\":{'eng':45,'pbi':74,'math':60,'sci':83,'sst':94},\n",
        "          \"student3\":{'eng':57,'pbi':94,'math':40,'sci':53,'sst':34},\n",
        "          \"student4\":{'eng':45,'pbi':54,'math':50,'sci':43,'sst':54},\n",
        "          }\n",
        "for name,subjects in students.items():\n",
        "    avg=sum(subjects.values())/len(subjects)\n",
        "    print(name,\"average is\",avg)\n"
      ],
      "metadata": {
        "colab": {
          "base_uri": "https://localhost:8080/"
        },
        "id": "F8AQUUE3FUy0",
        "outputId": "39ecee18-bdcd-4bad-f927-1dbb49f83eea"
      },
      "execution_count": null,
      "outputs": [
        {
          "output_type": "stream",
          "name": "stdout",
          "text": [
            "student1 average is 47.2\n",
            "student2 average is 71.2\n",
            "student3 average is 55.6\n",
            "student4 average is 49.2\n"
          ]
        }
      ]
    },
    {
      "cell_type": "code",
      "source": [
        "#GROUP WORDS BY THEIR LENGTH FROM A LIST USING DICTIONARY\n",
        "list=['apple','banana','orange','guava','papaya','kiwi','chiku']\n",
        "group={}\n",
        "for word in list:\n",
        "    l=len(word)\n",
        "    group.setdefault(l,[]).append(word)\n",
        "print(group)\n"
      ],
      "metadata": {
        "colab": {
          "base_uri": "https://localhost:8080/"
        },
        "id": "CQWyZ_w7FflT",
        "outputId": "6f41e60d-10cd-47c9-bb17-8dbdd81f5148"
      },
      "execution_count": null,
      "outputs": [
        {
          "output_type": "stream",
          "name": "stdout",
          "text": [
            "{5: ['apple', 'guava', 'chiku'], 6: ['banana', 'orange', 'papaya'], 4: ['kiwi']}\n"
          ]
        }
      ]
    },
    {
      "cell_type": "code",
      "source": [
        "#Create a program that takes a list of tuples (name, score) and builds a dictionary\n",
        "#where each name is a key, and the value is a list of all their scores. Then calculate and print\n",
        "#each person's average score.\n",
        "list=[('aman',78),('avrit',44),('komal',55),('dilpreet',66),\n",
        "      ('aman',78),('avrit',44),('komal',55),('dilpreet',66)]\n",
        "score_dict={}\n",
        "for name,score in list:\n",
        "    if name in score_dict:\n",
        "        score_dict[name].append(score)\n",
        "    else:\n",
        "        score_dict[name]=[score]\n",
        "print(score_dict)\n",
        "for name,score in score_dict.items():\n",
        "    avg=sum(score)/len(score)\n",
        "    print(name,\"average is\",avg)\n"
      ],
      "metadata": {
        "colab": {
          "base_uri": "https://localhost:8080/"
        },
        "id": "frEMNghcF0iL",
        "outputId": "d96e5316-0140-4e71-cf67-8d3df87232c0"
      },
      "execution_count": null,
      "outputs": [
        {
          "output_type": "stream",
          "name": "stdout",
          "text": [
            "{'aman': [78, 78], 'avrit': [44, 44], 'komal': [55, 55], 'dilpreet': [66, 66]}\n",
            "aman average is 78.0\n",
            "avrit average is 44.0\n",
            "komal average is 55.0\n",
            "dilpreet average is 66.0\n"
          ]
        }
      ]
    },
    {
      "cell_type": "markdown",
      "source": [
        "Assignment 5"
      ],
      "metadata": {
        "id": "ZVb17pQLF_wS"
      }
    },
    {
      "cell_type": "code",
      "source": [
        "#wap to make a pyramid\n",
        "rows=int(input(\"enter the number of rows:\"))\n",
        "for i in range(1,rows+1):\n",
        "    print(\" \"*(rows-i),end=\"\")\n",
        "    print(\"*\"*(2*i-1))\n"
      ],
      "metadata": {
        "colab": {
          "base_uri": "https://localhost:8080/"
        },
        "id": "dKQIMpyRGE0S",
        "outputId": "b9570ee6-dad0-452c-d0a0-56921807d268"
      },
      "execution_count": null,
      "outputs": [
        {
          "output_type": "stream",
          "name": "stdout",
          "text": [
            "enter the number of rows:5\n",
            "    *\n",
            "   ***\n",
            "  *****\n",
            " *******\n",
            "*********\n"
          ]
        }
      ]
    },
    {
      "cell_type": "code",
      "source": [
        "#create a pattern\n",
        "rows=int(input(\"enter the number of rows:\"))\n",
        "for i in range(1,rows+1):\n",
        "    print(\"*\"*i)\n"
      ],
      "metadata": {
        "colab": {
          "base_uri": "https://localhost:8080/"
        },
        "id": "uUUTNJ2eGSL5",
        "outputId": "a9cf9c84-8c6d-4d21-d120-c4b0f3635967"
      },
      "execution_count": null,
      "outputs": [
        {
          "output_type": "stream",
          "name": "stdout",
          "text": [
            "enter the number of rows:4\n",
            "*\n",
            "**\n",
            "***\n",
            "****\n"
          ]
        }
      ]
    },
    {
      "cell_type": "code",
      "source": [
        "#create a square pattern\n",
        "size=int(input(\"enter the size of square:\"))\n",
        "for i in range(size):\n",
        "    print(\"*\"*size)\n"
      ],
      "metadata": {
        "colab": {
          "base_uri": "https://localhost:8080/"
        },
        "id": "mLizeOAaGe05",
        "outputId": "0b32530e-5069-4d23-8cd2-2938943cd681"
      },
      "execution_count": null,
      "outputs": [
        {
          "output_type": "stream",
          "name": "stdout",
          "text": [
            "enter the size of square:4\n",
            "****\n",
            "****\n",
            "****\n",
            "****\n"
          ]
        }
      ]
    },
    {
      "cell_type": "code",
      "source": [
        "#create a circular pattern\n",
        "import math\n",
        "radius=int(input(\"enter radius of the circle:\"))\n",
        "for y in range(-radius,radius+1):\n",
        "    for x in range(-radius,radius+1):\n",
        "        if abs(x**2+y**2-radius**2)<radius:\n",
        "            print(\"*\",end=\"\")\n",
        "        else:\n",
        "            print(\" \",end=\"\")\n",
        "    print()\n"
      ],
      "metadata": {
        "colab": {
          "base_uri": "https://localhost:8080/"
        },
        "id": "42aiE-D0GoVg",
        "outputId": "567a46ac-06b3-4892-df38-3feb7be6fba2"
      },
      "execution_count": null,
      "outputs": [
        {
          "output_type": "stream",
          "name": "stdout",
          "text": [
            "enter radius of the circle:4\n",
            "   ***   \n",
            " **   ** \n",
            " *     * \n",
            "*       *\n",
            "*       *\n",
            "*       *\n",
            " *     * \n",
            " **   ** \n",
            "   ***   \n"
          ]
        }
      ]
    },
    {
      "cell_type": "code",
      "source": [
        "#create a rectangular pattern\n",
        "rows=int(input(\"enter the number of rows:\"))\n",
        "columns=int(input(\"enter the number of columns:\"))\n",
        "for i in range(rows):\n",
        "    print(\"*\"*columns)\n"
      ],
      "metadata": {
        "colab": {
          "base_uri": "https://localhost:8080/"
        },
        "id": "dDwjgxyBHEiv",
        "outputId": "7b6aa29a-f6aa-4160-a5ea-7e3fa887af4f"
      },
      "execution_count": null,
      "outputs": [
        {
          "output_type": "stream",
          "name": "stdout",
          "text": [
            "enter the number of rows:4\n",
            "enter the number of columns:5\n",
            "*****\n",
            "*****\n",
            "*****\n",
            "*****\n"
          ]
        }
      ]
    },
    {
      "cell_type": "markdown",
      "source": [
        "Assignment 6"
      ],
      "metadata": {
        "id": "4VYsv6j_HPXn"
      }
    },
    {
      "cell_type": "code",
      "source": [
        "#TO CREATE A TULE WITH DIFFERENT DATA TYPES AND PRINT ITS TYPE\n",
        "tuple=(\"hello\",2,3.14,True)\n",
        "print(tuple)\n",
        "print(\"type:\",type(tuple))\n"
      ],
      "metadata": {
        "id": "wNKTqkBuHU4n",
        "colab": {
          "base_uri": "https://localhost:8080/"
        },
        "outputId": "73141d09-024b-4e57-cb31-b45faf8c2d24"
      },
      "execution_count": null,
      "outputs": [
        {
          "output_type": "stream",
          "name": "stdout",
          "text": [
            "('hello', 2, 3.14, True)\n",
            "type: <class 'tuple'>\n"
          ]
        }
      ]
    },
    {
      "cell_type": "code",
      "source": [
        "#GIVEN A TUPLE t=(10,20,30,40,50),write a program to access the second last element\n",
        "t=(10,20,30,40,50)\n",
        "second_last_element=t[-2]\n",
        "print(\"second last element is:\",second_last_element)\n"
      ],
      "metadata": {
        "colab": {
          "base_uri": "https://localhost:8080/"
        },
        "id": "d61i5q-psjFF",
        "outputId": "15913953-b239-4db1-fef1-1186ed170c9a"
      },
      "execution_count": null,
      "outputs": [
        {
          "output_type": "stream",
          "name": "stdout",
          "text": [
            "second last element is: 40\n"
          ]
        }
      ]
    },
    {
      "cell_type": "code",
      "source": [
        "#to count number of times a given element appears in a tuple\n",
        "tuple=(2,5,6,4,8,10,4,6,6,9,10)\n",
        "t=tuple.count(6)\n",
        "print(t)\n"
      ],
      "metadata": {
        "colab": {
          "base_uri": "https://localhost:8080/"
        },
        "id": "cY9OmUvksvS0",
        "outputId": "26de3dc7-6c9c-4793-8909-467cabed5c51"
      },
      "execution_count": null,
      "outputs": [
        {
          "output_type": "stream",
          "name": "stdout",
          "text": [
            "3\n"
          ]
        }
      ]
    },
    {
      "cell_type": "code",
      "source": [
        "#to convert a tuple of strings into a single string.example:('python','is','fun')\n",
        "tuple=('python','is','fun')\n",
        "single_string=' '.join(tuple)\n",
        "print(single_string)\n"
      ],
      "metadata": {
        "colab": {
          "base_uri": "https://localhost:8080/"
        },
        "id": "YGGJgVuHs2v5",
        "outputId": "5099812c-6f43-47c0-ed6d-a54a6308b034"
      },
      "execution_count": null,
      "outputs": [
        {
          "output_type": "stream",
          "name": "stdout",
          "text": [
            "python is fun\n"
          ]
        }
      ]
    },
    {
      "cell_type": "code",
      "source": [
        "#to find the index of an element in a tuple\n",
        "tuple=(2,5,6,8,9,10)\n",
        "t=tuple.index(9)\n",
        "print(t)\n"
      ],
      "metadata": {
        "colab": {
          "base_uri": "https://localhost:8080/"
        },
        "id": "iFig0ZBus-4W",
        "outputId": "e6bc0d6f-1c5c-4adb-d31b-e6cf13b3191b"
      },
      "execution_count": null,
      "outputs": [
        {
          "output_type": "stream",
          "name": "stdout",
          "text": [
            "4\n"
          ]
        }
      ]
    },
    {
      "cell_type": "code",
      "source": [
        "#create two sets and perform union,intersection,and difference operations\n",
        "set1={'apple','mango','banana','orange','chiku'}\n",
        "set2={'muskmelon','strawberry','kiwi','melon'}\n",
        "union=set1.union(set2)\n",
        "print(\"union:\",union)\n",
        "intersection=set1.intersection(set2)\n",
        "print(\"intersection:\",intersection)\n",
        "difference=set1.difference(set2)\n",
        "print(\"difference:\",difference)\n"
      ],
      "metadata": {
        "colab": {
          "base_uri": "https://localhost:8080/"
        },
        "id": "DSfVeu0utHCy",
        "outputId": "57110a12-1bf7-4728-d477-0aaba9889db9"
      },
      "execution_count": null,
      "outputs": [
        {
          "output_type": "stream",
          "name": "stdout",
          "text": [
            "union: {'orange', 'banana', 'apple', 'mango', 'melon', 'chiku', 'strawberry', 'muskmelon', 'kiwi'}\n",
            "intersection: set()\n",
            "difference: {'orange', 'banana', 'apple', 'mango', 'chiku'}\n"
          ]
        }
      ]
    },
    {
      "cell_type": "code",
      "source": [
        "#check if a given element is present in a set or not\n",
        "set1={'apple','banana','mango','watermelon','papaya'}\n",
        "element=input(\"enter an element to check:\")\n",
        "if element in set1:\n",
        "    print(f\"{element} is present in the set\")\n",
        "else:\n",
        "    print(f\"{element} is not present in the set\")\n"
      ],
      "metadata": {
        "colab": {
          "base_uri": "https://localhost:8080/"
        },
        "id": "EAz3WYJ1tTKK",
        "outputId": "02639a96-4f09-4f71-9e90-0b2c4c627d01"
      },
      "execution_count": null,
      "outputs": [
        {
          "output_type": "stream",
          "name": "stdout",
          "text": [
            "enter an element to check:kiwi\n",
            "kiwi is not present in the set\n"
          ]
        }
      ]
    },
    {
      "cell_type": "code",
      "source": [
        "#to remove duplicate elements from a list using a set\n",
        "my_list=[10,20,30,40,50,10,20,20,90]\n",
        "unique_list= list(set(my_list))\n",
        "print(\"original list:\",my_list)\n",
        "print(\"list after removing duplicates:\",unique_list)\n"
      ],
      "metadata": {
        "colab": {
          "base_uri": "https://localhost:8080/"
        },
        "id": "zpbohgKjtgiy",
        "outputId": "26ed5ae2-f57e-405d-ee7d-98561cf371a6"
      },
      "execution_count": null,
      "outputs": [
        {
          "output_type": "stream",
          "name": "stdout",
          "text": [
            "original list: [10, 20, 30, 40, 50, 10, 20, 20, 90]\n",
            "list after removing duplicates: [40, 10, 50, 20, 90, 30]\n"
          ]
        }
      ]
    },
    {
      "cell_type": "code",
      "source": [
        "#find symmetric difference between two sets\n",
        "set1={'apple','mango','orange','kiwi','melon'}\n",
        "set2={'strawberry','kiwi','watermelon'}\n",
        "symmetric_diff=set1.symmetric_difference(set2)\n",
        "print(symmetric_diff)\n"
      ],
      "metadata": {
        "colab": {
          "base_uri": "https://localhost:8080/"
        },
        "id": "NOlolRZHtoXD",
        "outputId": "23ab61ad-3396-431b-d678-680af51ea321"
      },
      "execution_count": null,
      "outputs": [
        {
          "output_type": "stream",
          "name": "stdout",
          "text": [
            "{'orange', 'apple', 'mango', 'strawberry', 'watermelon', 'melon'}\n"
          ]
        }
      ]
    },
    {
      "cell_type": "code",
      "source": [
        "#given a list of numbers,write a python program to find all unique elements using sets\n",
        "#python now thinks set is a dictionary,not the actual built.in set() function.\n",
        "list=[2,1,3,5,6,2,4,8,9,10,5,6,7]\n",
        "unique_elements=set(list)\n",
        "print(\"unique elements are:\",unique_elements)\n"
      ],
      "metadata": {
        "colab": {
          "base_uri": "https://localhost:8080/"
        },
        "id": "6H0U1Fp-txq5",
        "outputId": "466b08a4-971a-4346-d5e6-96b74348280c"
      },
      "execution_count": null,
      "outputs": [
        {
          "output_type": "stream",
          "name": "stdout",
          "text": [
            "unique elements are: {1, 2, 3, 4, 5, 6, 7, 8, 9, 10}\n"
          ]
        }
      ]
    },
    {
      "cell_type": "markdown",
      "source": [
        "Assignment 7"
      ],
      "metadata": {
        "id": "H8zYaqMCt86Y"
      }
    },
    {
      "cell_type": "code",
      "source": [
        "#Write a function to find the factorial of a number using recursion\n",
        "def fact(n):\n",
        "    if n<0:\n",
        "        return \"factorial is not defined for negative numbers\"\n",
        "    elif n==0 or n==1:\n",
        "        return 1\n",
        "    else:\n",
        "        result=1\n",
        "        for i in range(2,n+1):\n",
        "            result*=i\n",
        "        return result\n",
        "print(fact(8))\n"
      ],
      "metadata": {
        "colab": {
          "base_uri": "https://localhost:8080/"
        },
        "id": "Fv9b4FTtuAji",
        "outputId": "34efe52f-c340-4537-80e7-3524e5167b60"
      },
      "execution_count": null,
      "outputs": [
        {
          "output_type": "stream",
          "name": "stdout",
          "text": [
            "40320\n"
          ]
        }
      ]
    },
    {
      "cell_type": "code",
      "source": [
        "#Write a function that checks whether a number is prime or not\n",
        "def is_prime(n):\n",
        "    if n<=1:\n",
        "        return False\n",
        "    for i in range(2,int(n**0.5)+1):\n",
        "        if n%i==0:\n",
        "            return False\n",
        "    return True\n",
        "print(is_prime(7))\n"
      ],
      "metadata": {
        "colab": {
          "base_uri": "https://localhost:8080/"
        },
        "id": "qm9IBRzWuONY",
        "outputId": "6c15d784-cf15-4cfa-f4b7-fd4742d6f671"
      },
      "execution_count": null,
      "outputs": [
        {
          "output_type": "stream",
          "name": "stdout",
          "text": [
            "True\n"
          ]
        }
      ]
    },
    {
      "cell_type": "code",
      "source": [
        "#Create a function that takes a string as input and returns the\n",
        "# number of vowels in it.\n",
        "def count_vowels(s):\n",
        "    vowels='aeiouAEIOU'\n",
        "    count=0\n",
        "    for char in s:\n",
        "        if char in vowels:\n",
        "            count+=1\n",
        "    return count\n",
        "text=input(\"enter the string:\")\n",
        "print(\"Number of vowels:\",count_vowels(text))\n"
      ],
      "metadata": {
        "colab": {
          "base_uri": "https://localhost:8080/"
        },
        "id": "XLROR7u0uWvc",
        "outputId": "a000ee33-6227-41fb-9e8f-0f7fa2827f60"
      },
      "execution_count": null,
      "outputs": [
        {
          "output_type": "stream",
          "name": "stdout",
          "text": [
            "enter the string:amritpreet kaur\n",
            "Number of vowels: 6\n"
          ]
        }
      ]
    },
    {
      "cell_type": "code",
      "source": [
        "#Write a function that accepts a list of numbers and\n",
        "# returns the maximum and minimum values.\n",
        "def max_min(number):\n",
        "    maxi=max(number)\n",
        "    mini=min(number)\n",
        "    return maxi,mini\n",
        "x=list(map(int,input(\"enter a list of numbers separated by comma(,):\").split(\",\")))\n",
        "maxi,mini=max_min(x)\n",
        "print(f\"maximum value:{maxi}\")\n",
        "print(f\"minimum value:{mini}\")\n"
      ],
      "metadata": {
        "colab": {
          "base_uri": "https://localhost:8080/"
        },
        "id": "3aQ-rymSulJ3",
        "outputId": "20fda0a2-ca96-486c-f97b-41c6a15c61f0"
      },
      "execution_count": null,
      "outputs": [
        {
          "output_type": "stream",
          "name": "stdout",
          "text": [
            "enter a list of numbers separated by comma(,):1,2,44,555\n",
            "maximum value:555\n",
            "minimum value:1\n"
          ]
        }
      ]
    },
    {
      "cell_type": "code",
      "source": [
        "#Write a Python function to calculate the nth Fibonacci number using recursion\n",
        "def fibonacci(n):\n",
        "    if n<=0:\n",
        "        return 0\n",
        "    elif n==1:\n",
        "        return 1\n",
        "    else:\n",
        "        return fibonacci(n-1)+fibonacci(n-2)\n",
        "n=int(input(\"enter any number:\"))\n",
        "print(f\"the{n}th fibonacci number is:\",fibonacci(n))\n"
      ],
      "metadata": {
        "colab": {
          "base_uri": "https://localhost:8080/"
        },
        "id": "ZLOb3gx0wsQW",
        "outputId": "88fe9cfa-8dec-424a-9d7e-7ce839e38718"
      },
      "execution_count": null,
      "outputs": [
        {
          "output_type": "stream",
          "name": "stdout",
          "text": [
            "enter any number:33\n",
            "the33th fibonacci number is: 3524578\n"
          ]
        }
      ]
    },
    {
      "cell_type": "code",
      "source": [
        "# Create a function that accepts two numbers and returns\n",
        "#  their greatest common divisor (GCD).\n",
        "import math\n",
        "def gcd(a,b):\n",
        "    return math.gcd(a,b)\n",
        "num1=int(input(\"enter the num1:\"))\n",
        "num2=int(input(\"enter the num2:\"))\n",
        "print(\"GCD IS:\",gcd(num1,num2))\n"
      ],
      "metadata": {
        "colab": {
          "base_uri": "https://localhost:8080/"
        },
        "id": "4CxhbDAjwxkZ",
        "outputId": "90375ce1-f88e-4c39-99e1-de3cd471f988"
      },
      "execution_count": null,
      "outputs": [
        {
          "output_type": "stream",
          "name": "stdout",
          "text": [
            "enter the num1:36\n",
            "enter the num2:64\n",
            "GCD IS: 4\n"
          ]
        }
      ]
    },
    {
      "cell_type": "code",
      "source": [
        "# Write a function that takes a list and returns a new list\n",
        "# with only unique elements\n",
        "def unique_elements(list1):\n",
        "    return list(set(list1))\n",
        "my_list=list(input(\"enter a list separated by a comma(,):\").split(','))\n",
        "print(f\"unique elements is:{unique_elements(my_list)}\")\n"
      ],
      "metadata": {
        "colab": {
          "base_uri": "https://localhost:8080/"
        },
        "id": "gaMwRmoBw-A2",
        "outputId": "1013072a-0336-4b15-d408-9400b84cd47a"
      },
      "execution_count": null,
      "outputs": [
        {
          "output_type": "stream",
          "name": "stdout",
          "text": [
            "enter a list separated by a comma(,):2,44,44,55,79,79,90\n",
            "unique elements is:['55', '44', '79', '2', '90']\n"
          ]
        }
      ]
    },
    {
      "cell_type": "code",
      "source": [
        "# Write a function to count the frequency of each word in a given string\n",
        "def word_frequency(s):\n",
        "    words=s.split()\n",
        "    freq={}\n",
        "    for word in words:\n",
        "        word=word.lower()\n",
        "        freq[word]=freq.get(word,0)+1\n",
        "    return freq\n",
        "text=input(\"enter a string separated by a space:\")\n",
        "print(word_frequency(text))\n"
      ],
      "metadata": {
        "colab": {
          "base_uri": "https://localhost:8080/"
        },
        "id": "WUM3Q7dvxPIA",
        "outputId": "66b00322-b582-491f-9e66-d7cc23de03d0"
      },
      "execution_count": null,
      "outputs": [
        {
          "output_type": "stream",
          "name": "stdout",
          "text": [
            "enter a string separated by a space:THE cat this is the cat\n",
            "{'the': 2, 'cat': 2, 'this': 1, 'is': 1}\n"
          ]
        }
      ]
    },
    {
      "cell_type": "code",
      "source": [
        "# Write a function that takes a number and returns True\n",
        "# if it is a palindrome, otherwise False\n",
        "def is_pallindrome(n):\n",
        "    s=str(n)\n",
        "    return s==s[::-1]\n",
        "number=int(input(\"enter the number:\"))\n",
        "print(is_pallindrome(number))\n"
      ],
      "metadata": {
        "colab": {
          "base_uri": "https://localhost:8080/"
        },
        "id": "lU88Ee_5xfjD",
        "outputId": "5a297c3d-a255-4ee1-dd93-c02fd26e2848"
      },
      "execution_count": null,
      "outputs": [
        {
          "output_type": "stream",
          "name": "stdout",
          "text": [
            "enter the number:121\n",
            "True\n"
          ]
        }
      ]
    },
    {
      "cell_type": "code",
      "source": [
        "#Create a function that takes a temperature in Celsius and\n",
        "#  returns it in Fahrenheit\n",
        "def celsius_to_fahrenheit(celsius):\n",
        "    return ((celsius*9/5)+32)\n",
        "temp=int(input(\"enter the temperatue:\"))\n",
        "print(\"fahrenheit is:\",celsius_to_fahrenheit(temp))\n"
      ],
      "metadata": {
        "colab": {
          "base_uri": "https://localhost:8080/"
        },
        "id": "_Fn2ZbmyxqpY",
        "outputId": "745115c0-cbbd-4d76-f243-cf1c02f4e701"
      },
      "execution_count": null,
      "outputs": [
        {
          "output_type": "stream",
          "name": "stdout",
          "text": [
            "enter the temperatue:34\n",
            "fahrenheit is: 93.2\n"
          ]
        }
      ]
    },
    {
      "cell_type": "markdown",
      "source": [
        "Assignment 9\n"
      ],
      "metadata": {
        "id": "BAOKHySMx1f-"
      }
    },
    {
      "cell_type": "code",
      "source": [
        "# Create a NumPy array with values from 1 to 10. Print the shape,\n",
        "# dimension, and data type of the array\n",
        "import numpy as np\n",
        "arr=np.arange(1,11)\n",
        "print(\"array:\",arr)\n",
        "print(\"array shape:\",arr.shape)\n",
        "print(\"dimensions:\",arr.ndim)\n",
        "print(\"data type:\",arr.dtype)\n"
      ],
      "metadata": {
        "id": "6J9aT6k98mzZ",
        "colab": {
          "base_uri": "https://localhost:8080/"
        },
        "outputId": "dd728b19-7489-4523-a3f7-b4839d19fc92"
      },
      "execution_count": null,
      "outputs": [
        {
          "output_type": "stream",
          "name": "stdout",
          "text": [
            "array: [ 1  2  3  4  5  6  7  8  9 10]\n",
            "array shape: (10,)\n",
            "dimensions: 1\n",
            "data type: int64\n"
          ]
        }
      ]
    },
    {
      "cell_type": "code",
      "source": [
        "#Create a 3x3 NumPy array of all zeros and another of all ones.\n",
        "#  Then create a 3x3 identity matrix\n",
        "zeros=np.zeros((3,3))\n",
        "ones=np.ones((3,3))\n",
        "identity=np.eye(3)\n",
        "print(\"zeros array:\\n\",zeros)\n",
        "print(\"ones aray:\\n\",ones)\n",
        "print(\"identity matrix:\\n\",identity)\n"
      ],
      "metadata": {
        "id": "Cw4Y3Ehjx7dG",
        "colab": {
          "base_uri": "https://localhost:8080/"
        },
        "outputId": "b124f23b-4d69-4b56-9016-feeb27e3bbe4"
      },
      "execution_count": null,
      "outputs": [
        {
          "output_type": "stream",
          "name": "stdout",
          "text": [
            "zeros array:\n",
            " [[0. 0. 0.]\n",
            " [0. 0. 0.]\n",
            " [0. 0. 0.]]\n",
            "ones aray:\n",
            " [[1. 1. 1.]\n",
            " [1. 1. 1.]\n",
            " [1. 1. 1.]]\n",
            "identity matrix:\n",
            " [[1. 0. 0.]\n",
            " [0. 1. 0.]\n",
            " [0. 0. 1.]]\n"
          ]
        }
      ]
    },
    {
      "cell_type": "code",
      "source": [
        "# Generate an array of 15 random integers between 10 and 100 using np.random.\n",
        "# randint. Reshape it into a 3x5 matrix and print it.\n",
        "arr=np.random.randint(10,101,size=15)\n",
        "matrix=arr.reshape(3,5)\n",
        "print(matrix)\n"
      ],
      "metadata": {
        "colab": {
          "base_uri": "https://localhost:8080/"
        },
        "id": "sDpLczgSeuSQ",
        "outputId": "30a2c099-b891-4cbc-9f58-4171fb30e133"
      },
      "execution_count": null,
      "outputs": [
        {
          "output_type": "stream",
          "name": "stdout",
          "text": [
            "[[68 98 89 55 96]\n",
            " [19 27 98 28 62]\n",
            " [77 94 60 75 91]]\n"
          ]
        }
      ]
    },
    {
      "cell_type": "code",
      "source": [
        "#Create a NumPy array from 1 to 20. Extract\n",
        "# every 3rd element starting from index 1 using slicing\n",
        "array1=np.arange(1,21)\n",
        "result=array1[1::3]\n",
        "print(\"every 3rd element from index 1 is:\",result)\n"
      ],
      "metadata": {
        "colab": {
          "base_uri": "https://localhost:8080/"
        },
        "id": "T7IzS3-pe2IM",
        "outputId": "b2ec73c1-3663-47d9-d065-687f5b6cff11"
      },
      "execution_count": null,
      "outputs": [
        {
          "output_type": "stream",
          "name": "stdout",
          "text": [
            "every 3rd element from index 1 is: [ 2  5  8 11 14 17 20]\n"
          ]
        }
      ]
    },
    {
      "cell_type": "code",
      "source": [
        "# Create two arrays: a = np.array([2, 4, 6, 8]) and b = np.array([1, 3, 5, 7]).\n",
        "# Perform element-wise addition, multiplication, and compare which elements\n",
        "#  in a are greater than in b.\n",
        "a = np.array([2, 4, 6, 8])\n",
        "b = np.array([1, 3, 5, 7])\n",
        "print(\"addition:\",a+b)\n",
        "print(\"multiplication:\",a*b)\n",
        "print(\"a>b:\",a>b)\n"
      ],
      "metadata": {
        "colab": {
          "base_uri": "https://localhost:8080/"
        },
        "id": "mWjDZqIoe8kU",
        "outputId": "f64be174-7aa9-4f54-a09e-8f62e87c78a3"
      },
      "execution_count": null,
      "outputs": [
        {
          "output_type": "stream",
          "name": "stdout",
          "text": [
            "addition: [ 3  7 11 15]\n",
            "multiplication: [ 2 12 30 56]\n",
            "a>b: [ True  True  True  True]\n"
          ]
        }
      ]
    },
    {
      "cell_type": "code",
      "source": [
        "# Create a NumPy array with 20 random values (0 to 1) using np.random.rand().\n",
        "# Find the mean, median, standard deviation, min, and max.\n",
        "arr=np.random.rand(20)\n",
        "print(arr)\n",
        "print(\"mean:\",np.mean(arr))\n",
        "print(\"median:\",np.median(arr))\n",
        "print(\"std dev:\",np.std(arr))\n",
        "print(\"min:\",np.min(arr))\n",
        "print(\"max:\",np.max(arr))\n"
      ],
      "metadata": {
        "colab": {
          "base_uri": "https://localhost:8080/"
        },
        "id": "6mlxoJU0fEKe",
        "outputId": "06dc5db5-f1d1-4e7b-b9d5-f60e16393b06"
      },
      "execution_count": null,
      "outputs": [
        {
          "output_type": "stream",
          "name": "stdout",
          "text": [
            "[0.58988147 0.90326573 0.8339253  0.30803636 0.55430335 0.53923068\n",
            " 0.58667126 0.343035   0.71271707 0.23140533 0.9326067  0.32917514\n",
            " 0.77261107 0.51241069 0.13815334 0.66441593 0.5519725  0.39024704\n",
            " 0.72412854 0.89899735]\n",
            "mean: 0.5758594939674012\n",
            "median: 0.5704873067296097\n",
            "std dev: 0.22703961613848128\n",
            "min: 0.1381533437667778\n",
            "max: 0.9326067039154502\n"
          ]
        }
      ]
    },
    {
      "cell_type": "code",
      "source": [
        "#Given: arr = np.array([[3, 5], [7, 9]]).\n",
        "# Find the sum across rows and columns using axis.\n",
        "arr=np.array([[3, 5], [7, 9]])\n",
        "print(\"sum across rows:\",arr.sum(axis=1))\n",
        "print(\"sum across columns:\",arr.sum(axis=0))\n"
      ],
      "metadata": {
        "colab": {
          "base_uri": "https://localhost:8080/"
        },
        "id": "QKSLNEYTfZsi",
        "outputId": "cde4b58b-573e-4734-c178-637015cdf1d2"
      },
      "execution_count": null,
      "outputs": [
        {
          "output_type": "stream",
          "name": "stdout",
          "text": [
            "sum across rows: [ 8 16]\n",
            "sum across columns: [10 14]\n"
          ]
        }
      ]
    },
    {
      "cell_type": "code",
      "source": [
        "# Create a NumPy array of numbers from 10 to 30. Filter and print only the even\n",
        "# numbers using boolean indexing.\n",
        "arr=np.arange(10,31)\n",
        "even=arr[arr%2==0]\n",
        "print(\"even numbers are:\",even)\n"
      ],
      "metadata": {
        "colab": {
          "base_uri": "https://localhost:8080/"
        },
        "id": "hCB4m0irfiAp",
        "outputId": "924f965c-9193-4782-997d-35a2c78e995a"
      },
      "execution_count": null,
      "outputs": [
        {
          "output_type": "stream",
          "name": "stdout",
          "text": [
            "even numbers are: [10 12 14 16 18 20 22 24 26 28 30]\n"
          ]
        }
      ]
    },
    {
      "cell_type": "code",
      "source": [
        "#Generate an array of 10 random integers from 1 to 100. Replace all elements\n",
        "# greater than 50 with-1.\n",
        "arr=np.random.randint(1,101,10)\n",
        "arr[arr>50]=-1\n",
        "print(\"modified array:\",arr)\n"
      ],
      "metadata": {
        "colab": {
          "base_uri": "https://localhost:8080/"
        },
        "id": "zTKOe1hdfp5q",
        "outputId": "8c8ce10b-d464-45cb-c378-0dc9efb3faae"
      },
      "execution_count": null,
      "outputs": [
        {
          "output_type": "stream",
          "name": "stdout",
          "text": [
            "modified array: [47 44 -1 -1 32 -1 32 -1 -1 -1]\n"
          ]
        }
      ]
    },
    {
      "cell_type": "code",
      "source": [
        "#Create two arrays: x = np.array([[1, 2], [3, 4]]) and y=np.array([[5, 6],\n",
        "#  [7, 8]]). Stack them vertically and horizontally, then flatten the result\n",
        "# into a 1D array\n",
        "x=np.array([[1, 2], [3, 4]])\n",
        "y=np.array([[5, 6],[7, 8]])\n",
        "v_stack=np.vstack((x,y))\n",
        "h_stack=np.hstack((x,y))\n",
        "flattened=h_stack.flatten()\n",
        "print(\"vertical stack:\\n\",v_stack)\n",
        "print(\"horizontal stack:\\n\",h_stack)\n",
        "print(\"flattened:\",flattened)\n"
      ],
      "metadata": {
        "colab": {
          "base_uri": "https://localhost:8080/"
        },
        "id": "FcwnZqZifxdK",
        "outputId": "5ef9d3a0-cf75-47f2-93ce-653ecb94a20b"
      },
      "execution_count": null,
      "outputs": [
        {
          "output_type": "stream",
          "name": "stdout",
          "text": [
            "vertical stack:\n",
            " [[1 2]\n",
            " [3 4]\n",
            " [5 6]\n",
            " [7 8]]\n",
            "horizontal stack:\n",
            " [[1 2 5 6]\n",
            " [3 4 7 8]]\n",
            "flattened: [1 2 5 6 3 4 7 8]\n"
          ]
        }
      ]
    },
    {
      "cell_type": "markdown",
      "source": [
        "Assignment 10"
      ],
      "metadata": {
        "id": "fpQLnsCl48i3"
      }
    },
    {
      "cell_type": "code",
      "source": [
        "import pandas as pd\n",
        "df = pd.read_csv('https://raw.githubusercontent.com/amrit2711tech/Assignment/refs/heads/main/diamonds.csv')\n",
        "\n",
        "df.head(10)\n"
      ],
      "metadata": {
        "colab": {
          "base_uri": "https://localhost:8080/",
          "height": 363
        },
        "id": "fXmKrw275BLX",
        "outputId": "0e835f31-b554-4d93-e694-fdc44dd9cda3"
      },
      "execution_count": null,
      "outputs": [
        {
          "output_type": "execute_result",
          "data": {
            "text/plain": [
              "   carat        cut color clarity  depth  table  price     x     y     z\n",
              "0   0.23      Ideal     E     SI2   61.5   55.0    326  3.95  3.98  2.43\n",
              "1   0.21    Premium     E     SI1   59.8   61.0    326  3.89  3.84  2.31\n",
              "2   0.23       Good     E     VS1   56.9   65.0    327  4.05  4.07  2.31\n",
              "3   0.29    Premium     I     VS2   62.4   58.0    334  4.20  4.23  2.63\n",
              "4   0.31       Good     J     SI2   63.3   58.0    335  4.34  4.35  2.75\n",
              "5   0.24  Very Good     J    VVS2   62.8   57.0    336  3.94  3.96  2.48\n",
              "6   0.24  Very Good     I    VVS1   62.3   57.0    336  3.95  3.98  2.47\n",
              "7   0.26  Very Good     H     SI1   61.9   55.0    337  4.07  4.11  2.53\n",
              "8   0.22       Fair     E     VS2   65.1   61.0    337  3.87  3.78  2.49\n",
              "9   0.23  Very Good     H     VS1   59.4   61.0    338  4.00  4.05  2.39"
            ],
            "text/html": [
              "\n",
              "  <div id=\"df-0fd86af2-5f45-49a2-99d6-246ff4cbb749\" class=\"colab-df-container\">\n",
              "    <div>\n",
              "<style scoped>\n",
              "    .dataframe tbody tr th:only-of-type {\n",
              "        vertical-align: middle;\n",
              "    }\n",
              "\n",
              "    .dataframe tbody tr th {\n",
              "        vertical-align: top;\n",
              "    }\n",
              "\n",
              "    .dataframe thead th {\n",
              "        text-align: right;\n",
              "    }\n",
              "</style>\n",
              "<table border=\"1\" class=\"dataframe\">\n",
              "  <thead>\n",
              "    <tr style=\"text-align: right;\">\n",
              "      <th></th>\n",
              "      <th>carat</th>\n",
              "      <th>cut</th>\n",
              "      <th>color</th>\n",
              "      <th>clarity</th>\n",
              "      <th>depth</th>\n",
              "      <th>table</th>\n",
              "      <th>price</th>\n",
              "      <th>x</th>\n",
              "      <th>y</th>\n",
              "      <th>z</th>\n",
              "    </tr>\n",
              "  </thead>\n",
              "  <tbody>\n",
              "    <tr>\n",
              "      <th>0</th>\n",
              "      <td>0.23</td>\n",
              "      <td>Ideal</td>\n",
              "      <td>E</td>\n",
              "      <td>SI2</td>\n",
              "      <td>61.5</td>\n",
              "      <td>55.0</td>\n",
              "      <td>326</td>\n",
              "      <td>3.95</td>\n",
              "      <td>3.98</td>\n",
              "      <td>2.43</td>\n",
              "    </tr>\n",
              "    <tr>\n",
              "      <th>1</th>\n",
              "      <td>0.21</td>\n",
              "      <td>Premium</td>\n",
              "      <td>E</td>\n",
              "      <td>SI1</td>\n",
              "      <td>59.8</td>\n",
              "      <td>61.0</td>\n",
              "      <td>326</td>\n",
              "      <td>3.89</td>\n",
              "      <td>3.84</td>\n",
              "      <td>2.31</td>\n",
              "    </tr>\n",
              "    <tr>\n",
              "      <th>2</th>\n",
              "      <td>0.23</td>\n",
              "      <td>Good</td>\n",
              "      <td>E</td>\n",
              "      <td>VS1</td>\n",
              "      <td>56.9</td>\n",
              "      <td>65.0</td>\n",
              "      <td>327</td>\n",
              "      <td>4.05</td>\n",
              "      <td>4.07</td>\n",
              "      <td>2.31</td>\n",
              "    </tr>\n",
              "    <tr>\n",
              "      <th>3</th>\n",
              "      <td>0.29</td>\n",
              "      <td>Premium</td>\n",
              "      <td>I</td>\n",
              "      <td>VS2</td>\n",
              "      <td>62.4</td>\n",
              "      <td>58.0</td>\n",
              "      <td>334</td>\n",
              "      <td>4.20</td>\n",
              "      <td>4.23</td>\n",
              "      <td>2.63</td>\n",
              "    </tr>\n",
              "    <tr>\n",
              "      <th>4</th>\n",
              "      <td>0.31</td>\n",
              "      <td>Good</td>\n",
              "      <td>J</td>\n",
              "      <td>SI2</td>\n",
              "      <td>63.3</td>\n",
              "      <td>58.0</td>\n",
              "      <td>335</td>\n",
              "      <td>4.34</td>\n",
              "      <td>4.35</td>\n",
              "      <td>2.75</td>\n",
              "    </tr>\n",
              "    <tr>\n",
              "      <th>5</th>\n",
              "      <td>0.24</td>\n",
              "      <td>Very Good</td>\n",
              "      <td>J</td>\n",
              "      <td>VVS2</td>\n",
              "      <td>62.8</td>\n",
              "      <td>57.0</td>\n",
              "      <td>336</td>\n",
              "      <td>3.94</td>\n",
              "      <td>3.96</td>\n",
              "      <td>2.48</td>\n",
              "    </tr>\n",
              "    <tr>\n",
              "      <th>6</th>\n",
              "      <td>0.24</td>\n",
              "      <td>Very Good</td>\n",
              "      <td>I</td>\n",
              "      <td>VVS1</td>\n",
              "      <td>62.3</td>\n",
              "      <td>57.0</td>\n",
              "      <td>336</td>\n",
              "      <td>3.95</td>\n",
              "      <td>3.98</td>\n",
              "      <td>2.47</td>\n",
              "    </tr>\n",
              "    <tr>\n",
              "      <th>7</th>\n",
              "      <td>0.26</td>\n",
              "      <td>Very Good</td>\n",
              "      <td>H</td>\n",
              "      <td>SI1</td>\n",
              "      <td>61.9</td>\n",
              "      <td>55.0</td>\n",
              "      <td>337</td>\n",
              "      <td>4.07</td>\n",
              "      <td>4.11</td>\n",
              "      <td>2.53</td>\n",
              "    </tr>\n",
              "    <tr>\n",
              "      <th>8</th>\n",
              "      <td>0.22</td>\n",
              "      <td>Fair</td>\n",
              "      <td>E</td>\n",
              "      <td>VS2</td>\n",
              "      <td>65.1</td>\n",
              "      <td>61.0</td>\n",
              "      <td>337</td>\n",
              "      <td>3.87</td>\n",
              "      <td>3.78</td>\n",
              "      <td>2.49</td>\n",
              "    </tr>\n",
              "    <tr>\n",
              "      <th>9</th>\n",
              "      <td>0.23</td>\n",
              "      <td>Very Good</td>\n",
              "      <td>H</td>\n",
              "      <td>VS1</td>\n",
              "      <td>59.4</td>\n",
              "      <td>61.0</td>\n",
              "      <td>338</td>\n",
              "      <td>4.00</td>\n",
              "      <td>4.05</td>\n",
              "      <td>2.39</td>\n",
              "    </tr>\n",
              "  </tbody>\n",
              "</table>\n",
              "</div>\n",
              "    <div class=\"colab-df-buttons\">\n",
              "\n",
              "  <div class=\"colab-df-container\">\n",
              "    <button class=\"colab-df-convert\" onclick=\"convertToInteractive('df-0fd86af2-5f45-49a2-99d6-246ff4cbb749')\"\n",
              "            title=\"Convert this dataframe to an interactive table.\"\n",
              "            style=\"display:none;\">\n",
              "\n",
              "  <svg xmlns=\"http://www.w3.org/2000/svg\" height=\"24px\" viewBox=\"0 -960 960 960\">\n",
              "    <path d=\"M120-120v-720h720v720H120Zm60-500h600v-160H180v160Zm220 220h160v-160H400v160Zm0 220h160v-160H400v160ZM180-400h160v-160H180v160Zm440 0h160v-160H620v160ZM180-180h160v-160H180v160Zm440 0h160v-160H620v160Z\"/>\n",
              "  </svg>\n",
              "    </button>\n",
              "\n",
              "  <style>\n",
              "    .colab-df-container {\n",
              "      display:flex;\n",
              "      gap: 12px;\n",
              "    }\n",
              "\n",
              "    .colab-df-convert {\n",
              "      background-color: #E8F0FE;\n",
              "      border: none;\n",
              "      border-radius: 50%;\n",
              "      cursor: pointer;\n",
              "      display: none;\n",
              "      fill: #1967D2;\n",
              "      height: 32px;\n",
              "      padding: 0 0 0 0;\n",
              "      width: 32px;\n",
              "    }\n",
              "\n",
              "    .colab-df-convert:hover {\n",
              "      background-color: #E2EBFA;\n",
              "      box-shadow: 0px 1px 2px rgba(60, 64, 67, 0.3), 0px 1px 3px 1px rgba(60, 64, 67, 0.15);\n",
              "      fill: #174EA6;\n",
              "    }\n",
              "\n",
              "    .colab-df-buttons div {\n",
              "      margin-bottom: 4px;\n",
              "    }\n",
              "\n",
              "    [theme=dark] .colab-df-convert {\n",
              "      background-color: #3B4455;\n",
              "      fill: #D2E3FC;\n",
              "    }\n",
              "\n",
              "    [theme=dark] .colab-df-convert:hover {\n",
              "      background-color: #434B5C;\n",
              "      box-shadow: 0px 1px 3px 1px rgba(0, 0, 0, 0.15);\n",
              "      filter: drop-shadow(0px 1px 2px rgba(0, 0, 0, 0.3));\n",
              "      fill: #FFFFFF;\n",
              "    }\n",
              "  </style>\n",
              "\n",
              "    <script>\n",
              "      const buttonEl =\n",
              "        document.querySelector('#df-0fd86af2-5f45-49a2-99d6-246ff4cbb749 button.colab-df-convert');\n",
              "      buttonEl.style.display =\n",
              "        google.colab.kernel.accessAllowed ? 'block' : 'none';\n",
              "\n",
              "      async function convertToInteractive(key) {\n",
              "        const element = document.querySelector('#df-0fd86af2-5f45-49a2-99d6-246ff4cbb749');\n",
              "        const dataTable =\n",
              "          await google.colab.kernel.invokeFunction('convertToInteractive',\n",
              "                                                    [key], {});\n",
              "        if (!dataTable) return;\n",
              "\n",
              "        const docLinkHtml = 'Like what you see? Visit the ' +\n",
              "          '<a target=\"_blank\" href=https://colab.research.google.com/notebooks/data_table.ipynb>data table notebook</a>'\n",
              "          + ' to learn more about interactive tables.';\n",
              "        element.innerHTML = '';\n",
              "        dataTable['output_type'] = 'display_data';\n",
              "        await google.colab.output.renderOutput(dataTable, element);\n",
              "        const docLink = document.createElement('div');\n",
              "        docLink.innerHTML = docLinkHtml;\n",
              "        element.appendChild(docLink);\n",
              "      }\n",
              "    </script>\n",
              "  </div>\n",
              "\n",
              "\n",
              "    <div id=\"df-0206ae5c-b020-444b-a1d8-a013fadb9190\">\n",
              "      <button class=\"colab-df-quickchart\" onclick=\"quickchart('df-0206ae5c-b020-444b-a1d8-a013fadb9190')\"\n",
              "                title=\"Suggest charts\"\n",
              "                style=\"display:none;\">\n",
              "\n",
              "<svg xmlns=\"http://www.w3.org/2000/svg\" height=\"24px\"viewBox=\"0 0 24 24\"\n",
              "     width=\"24px\">\n",
              "    <g>\n",
              "        <path d=\"M19 3H5c-1.1 0-2 .9-2 2v14c0 1.1.9 2 2 2h14c1.1 0 2-.9 2-2V5c0-1.1-.9-2-2-2zM9 17H7v-7h2v7zm4 0h-2V7h2v10zm4 0h-2v-4h2v4z\"/>\n",
              "    </g>\n",
              "</svg>\n",
              "      </button>\n",
              "\n",
              "<style>\n",
              "  .colab-df-quickchart {\n",
              "      --bg-color: #E8F0FE;\n",
              "      --fill-color: #1967D2;\n",
              "      --hover-bg-color: #E2EBFA;\n",
              "      --hover-fill-color: #174EA6;\n",
              "      --disabled-fill-color: #AAA;\n",
              "      --disabled-bg-color: #DDD;\n",
              "  }\n",
              "\n",
              "  [theme=dark] .colab-df-quickchart {\n",
              "      --bg-color: #3B4455;\n",
              "      --fill-color: #D2E3FC;\n",
              "      --hover-bg-color: #434B5C;\n",
              "      --hover-fill-color: #FFFFFF;\n",
              "      --disabled-bg-color: #3B4455;\n",
              "      --disabled-fill-color: #666;\n",
              "  }\n",
              "\n",
              "  .colab-df-quickchart {\n",
              "    background-color: var(--bg-color);\n",
              "    border: none;\n",
              "    border-radius: 50%;\n",
              "    cursor: pointer;\n",
              "    display: none;\n",
              "    fill: var(--fill-color);\n",
              "    height: 32px;\n",
              "    padding: 0;\n",
              "    width: 32px;\n",
              "  }\n",
              "\n",
              "  .colab-df-quickchart:hover {\n",
              "    background-color: var(--hover-bg-color);\n",
              "    box-shadow: 0 1px 2px rgba(60, 64, 67, 0.3), 0 1px 3px 1px rgba(60, 64, 67, 0.15);\n",
              "    fill: var(--button-hover-fill-color);\n",
              "  }\n",
              "\n",
              "  .colab-df-quickchart-complete:disabled,\n",
              "  .colab-df-quickchart-complete:disabled:hover {\n",
              "    background-color: var(--disabled-bg-color);\n",
              "    fill: var(--disabled-fill-color);\n",
              "    box-shadow: none;\n",
              "  }\n",
              "\n",
              "  .colab-df-spinner {\n",
              "    border: 2px solid var(--fill-color);\n",
              "    border-color: transparent;\n",
              "    border-bottom-color: var(--fill-color);\n",
              "    animation:\n",
              "      spin 1s steps(1) infinite;\n",
              "  }\n",
              "\n",
              "  @keyframes spin {\n",
              "    0% {\n",
              "      border-color: transparent;\n",
              "      border-bottom-color: var(--fill-color);\n",
              "      border-left-color: var(--fill-color);\n",
              "    }\n",
              "    20% {\n",
              "      border-color: transparent;\n",
              "      border-left-color: var(--fill-color);\n",
              "      border-top-color: var(--fill-color);\n",
              "    }\n",
              "    30% {\n",
              "      border-color: transparent;\n",
              "      border-left-color: var(--fill-color);\n",
              "      border-top-color: var(--fill-color);\n",
              "      border-right-color: var(--fill-color);\n",
              "    }\n",
              "    40% {\n",
              "      border-color: transparent;\n",
              "      border-right-color: var(--fill-color);\n",
              "      border-top-color: var(--fill-color);\n",
              "    }\n",
              "    60% {\n",
              "      border-color: transparent;\n",
              "      border-right-color: var(--fill-color);\n",
              "    }\n",
              "    80% {\n",
              "      border-color: transparent;\n",
              "      border-right-color: var(--fill-color);\n",
              "      border-bottom-color: var(--fill-color);\n",
              "    }\n",
              "    90% {\n",
              "      border-color: transparent;\n",
              "      border-bottom-color: var(--fill-color);\n",
              "    }\n",
              "  }\n",
              "</style>\n",
              "\n",
              "      <script>\n",
              "        async function quickchart(key) {\n",
              "          const quickchartButtonEl =\n",
              "            document.querySelector('#' + key + ' button');\n",
              "          quickchartButtonEl.disabled = true;  // To prevent multiple clicks.\n",
              "          quickchartButtonEl.classList.add('colab-df-spinner');\n",
              "          try {\n",
              "            const charts = await google.colab.kernel.invokeFunction(\n",
              "                'suggestCharts', [key], {});\n",
              "          } catch (error) {\n",
              "            console.error('Error during call to suggestCharts:', error);\n",
              "          }\n",
              "          quickchartButtonEl.classList.remove('colab-df-spinner');\n",
              "          quickchartButtonEl.classList.add('colab-df-quickchart-complete');\n",
              "        }\n",
              "        (() => {\n",
              "          let quickchartButtonEl =\n",
              "            document.querySelector('#df-0206ae5c-b020-444b-a1d8-a013fadb9190 button');\n",
              "          quickchartButtonEl.style.display =\n",
              "            google.colab.kernel.accessAllowed ? 'block' : 'none';\n",
              "        })();\n",
              "      </script>\n",
              "    </div>\n",
              "\n",
              "    </div>\n",
              "  </div>\n"
            ],
            "application/vnd.google.colaboratory.intrinsic+json": {
              "type": "dataframe",
              "variable_name": "df",
              "summary": "{\n  \"name\": \"df\",\n  \"rows\": 50000,\n  \"fields\": [\n    {\n      \"column\": \"carat\",\n      \"properties\": {\n        \"dtype\": \"number\",\n        \"std\": 0.4751729878991273,\n        \"min\": 0.2,\n        \"max\": 5.01,\n        \"num_unique_values\": 272,\n        \"samples\": [\n          0.63,\n          1.54,\n          1.5\n        ],\n        \"semantic_type\": \"\",\n        \"description\": \"\"\n      }\n    },\n    {\n      \"column\": \"cut\",\n      \"properties\": {\n        \"dtype\": \"category\",\n        \"num_unique_values\": 5,\n        \"samples\": [\n          \"Premium\",\n          \"Fair\",\n          \"Good\"\n        ],\n        \"semantic_type\": \"\",\n        \"description\": \"\"\n      }\n    },\n    {\n      \"column\": \"color\",\n      \"properties\": {\n        \"dtype\": \"category\",\n        \"num_unique_values\": 7,\n        \"samples\": [\n          \"E\",\n          \"I\",\n          \"G\"\n        ],\n        \"semantic_type\": \"\",\n        \"description\": \"\"\n      }\n    },\n    {\n      \"column\": \"clarity\",\n      \"properties\": {\n        \"dtype\": \"category\",\n        \"num_unique_values\": 8,\n        \"samples\": [\n          \"SI1\",\n          \"VVS1\",\n          \"SI2\"\n        ],\n        \"semantic_type\": \"\",\n        \"description\": \"\"\n      }\n    },\n    {\n      \"column\": \"depth\",\n      \"properties\": {\n        \"dtype\": \"number\",\n        \"std\": 1.4310875319819645,\n        \"min\": 43.0,\n        \"max\": 79.0,\n        \"num_unique_values\": 181,\n        \"samples\": [\n          61.0,\n          59.2,\n          70.2\n        ],\n        \"semantic_type\": \"\",\n        \"description\": \"\"\n      }\n    },\n    {\n      \"column\": \"table\",\n      \"properties\": {\n        \"dtype\": \"number\",\n        \"std\": 2.232091739999323,\n        \"min\": 43.0,\n        \"max\": 95.0,\n        \"num_unique_values\": 126,\n        \"samples\": [\n          58.5,\n          68.0,\n          63.3\n        ],\n        \"semantic_type\": \"\",\n        \"description\": \"\"\n      }\n    },\n    {\n      \"column\": \"price\",\n      \"properties\": {\n        \"dtype\": \"number\",\n        \"std\": 3997,\n        \"min\": 326,\n        \"max\": 18823,\n        \"num_unique_values\": 11297,\n        \"samples\": [\n          6910,\n          14182,\n          2714\n        ],\n        \"semantic_type\": \"\",\n        \"description\": \"\"\n      }\n    },\n    {\n      \"column\": \"x\",\n      \"properties\": {\n        \"dtype\": \"number\",\n        \"std\": 1.1230773250858357,\n        \"min\": 0.0,\n        \"max\": 10.74,\n        \"num_unique_values\": 553,\n        \"samples\": [\n          5.02,\n          5.53,\n          9.51\n        ],\n        \"semantic_type\": \"\",\n        \"description\": \"\"\n      }\n    },\n    {\n      \"column\": \"y\",\n      \"properties\": {\n        \"dtype\": \"number\",\n        \"std\": 1.1455791612679045,\n        \"min\": 0.0,\n        \"max\": 58.9,\n        \"num_unique_values\": 551,\n        \"samples\": [\n          5.33,\n          5.58,\n          4.57\n        ],\n        \"semantic_type\": \"\",\n        \"description\": \"\"\n      }\n    },\n    {\n      \"column\": \"z\",\n      \"properties\": {\n        \"dtype\": \"number\",\n        \"std\": 0.7070647096794844,\n        \"min\": 0.0,\n        \"max\": 31.8,\n        \"num_unique_values\": 371,\n        \"samples\": [\n          5.48,\n          2.69,\n          2.7\n        ],\n        \"semantic_type\": \"\",\n        \"description\": \"\"\n      }\n    }\n  ]\n}"
            }
          },
          "metadata": {},
          "execution_count": 12
        }
      ]
    },
    {
      "cell_type": "code",
      "source": [
        "#Check the shape and column names of the dataset.\n",
        "df.shape"
      ],
      "metadata": {
        "colab": {
          "base_uri": "https://localhost:8080/"
        },
        "id": "PHxgoD-R7uQK",
        "outputId": "5e549cd0-685c-4356-f60f-b7c2c0b6e5f8"
      },
      "execution_count": null,
      "outputs": [
        {
          "output_type": "execute_result",
          "data": {
            "text/plain": [
              "(50000, 10)"
            ]
          },
          "metadata": {},
          "execution_count": 3
        }
      ]
    },
    {
      "cell_type": "code",
      "source": [
        "df.columns\n"
      ],
      "metadata": {
        "colab": {
          "base_uri": "https://localhost:8080/"
        },
        "id": "uBPYY26J79xH",
        "outputId": "e29c4b0c-fc86-447c-e698-20062076e647"
      },
      "execution_count": null,
      "outputs": [
        {
          "output_type": "execute_result",
          "data": {
            "text/plain": [
              "Index(['carat', 'cut', 'color', 'clarity', 'depth', 'table', 'price', 'x', 'y',\n",
              "       'z'],\n",
              "      dtype='object')"
            ]
          },
          "metadata": {},
          "execution_count": 5
        }
      ]
    },
    {
      "cell_type": "code",
      "source": [
        "#Find and fill missing numeric values with their respective column means.\n",
        "df.describe()\n"
      ],
      "metadata": {
        "colab": {
          "base_uri": "https://localhost:8080/",
          "height": 300
        },
        "id": "WlXiOCyN8vUl",
        "outputId": "53009741-739a-4633-8d02-148e98c3d2d6"
      },
      "execution_count": null,
      "outputs": [
        {
          "output_type": "execute_result",
          "data": {
            "text/plain": [
              "              carat         depth         table         price             x  \\\n",
              "count  50000.000000  50000.000000  50000.000000  50000.000000  50000.000000   \n",
              "mean       0.799444     61.753006     57.457830   3944.805440      5.734403   \n",
              "std        0.475173      1.431088      2.232092   3997.938105      1.123077   \n",
              "min        0.200000     43.000000     43.000000    326.000000      0.000000   \n",
              "25%        0.400000     61.000000     56.000000    951.000000      4.710000   \n",
              "50%        0.700000     61.800000     57.000000   2410.000000      5.700000   \n",
              "75%        1.040000     62.500000     59.000000   5351.000000      6.540000   \n",
              "max        5.010000     79.000000     95.000000  18823.000000     10.740000   \n",
              "\n",
              "                  y             z  \n",
              "count  50000.000000  50000.000000  \n",
              "mean       5.737956      3.541056  \n",
              "std        1.145579      0.707065  \n",
              "min        0.000000      0.000000  \n",
              "25%        4.720000      2.910000  \n",
              "50%        5.710000      3.530000  \n",
              "75%        6.540000      4.040000  \n",
              "max       58.900000     31.800000  "
            ],
            "text/html": [
              "\n",
              "  <div id=\"df-5f3d2eae-568e-4855-ab92-1fd565bf783a\" class=\"colab-df-container\">\n",
              "    <div>\n",
              "<style scoped>\n",
              "    .dataframe tbody tr th:only-of-type {\n",
              "        vertical-align: middle;\n",
              "    }\n",
              "\n",
              "    .dataframe tbody tr th {\n",
              "        vertical-align: top;\n",
              "    }\n",
              "\n",
              "    .dataframe thead th {\n",
              "        text-align: right;\n",
              "    }\n",
              "</style>\n",
              "<table border=\"1\" class=\"dataframe\">\n",
              "  <thead>\n",
              "    <tr style=\"text-align: right;\">\n",
              "      <th></th>\n",
              "      <th>carat</th>\n",
              "      <th>depth</th>\n",
              "      <th>table</th>\n",
              "      <th>price</th>\n",
              "      <th>x</th>\n",
              "      <th>y</th>\n",
              "      <th>z</th>\n",
              "    </tr>\n",
              "  </thead>\n",
              "  <tbody>\n",
              "    <tr>\n",
              "      <th>count</th>\n",
              "      <td>50000.000000</td>\n",
              "      <td>50000.000000</td>\n",
              "      <td>50000.000000</td>\n",
              "      <td>50000.000000</td>\n",
              "      <td>50000.000000</td>\n",
              "      <td>50000.000000</td>\n",
              "      <td>50000.000000</td>\n",
              "    </tr>\n",
              "    <tr>\n",
              "      <th>mean</th>\n",
              "      <td>0.799444</td>\n",
              "      <td>61.753006</td>\n",
              "      <td>57.457830</td>\n",
              "      <td>3944.805440</td>\n",
              "      <td>5.734403</td>\n",
              "      <td>5.737956</td>\n",
              "      <td>3.541056</td>\n",
              "    </tr>\n",
              "    <tr>\n",
              "      <th>std</th>\n",
              "      <td>0.475173</td>\n",
              "      <td>1.431088</td>\n",
              "      <td>2.232092</td>\n",
              "      <td>3997.938105</td>\n",
              "      <td>1.123077</td>\n",
              "      <td>1.145579</td>\n",
              "      <td>0.707065</td>\n",
              "    </tr>\n",
              "    <tr>\n",
              "      <th>min</th>\n",
              "      <td>0.200000</td>\n",
              "      <td>43.000000</td>\n",
              "      <td>43.000000</td>\n",
              "      <td>326.000000</td>\n",
              "      <td>0.000000</td>\n",
              "      <td>0.000000</td>\n",
              "      <td>0.000000</td>\n",
              "    </tr>\n",
              "    <tr>\n",
              "      <th>25%</th>\n",
              "      <td>0.400000</td>\n",
              "      <td>61.000000</td>\n",
              "      <td>56.000000</td>\n",
              "      <td>951.000000</td>\n",
              "      <td>4.710000</td>\n",
              "      <td>4.720000</td>\n",
              "      <td>2.910000</td>\n",
              "    </tr>\n",
              "    <tr>\n",
              "      <th>50%</th>\n",
              "      <td>0.700000</td>\n",
              "      <td>61.800000</td>\n",
              "      <td>57.000000</td>\n",
              "      <td>2410.000000</td>\n",
              "      <td>5.700000</td>\n",
              "      <td>5.710000</td>\n",
              "      <td>3.530000</td>\n",
              "    </tr>\n",
              "    <tr>\n",
              "      <th>75%</th>\n",
              "      <td>1.040000</td>\n",
              "      <td>62.500000</td>\n",
              "      <td>59.000000</td>\n",
              "      <td>5351.000000</td>\n",
              "      <td>6.540000</td>\n",
              "      <td>6.540000</td>\n",
              "      <td>4.040000</td>\n",
              "    </tr>\n",
              "    <tr>\n",
              "      <th>max</th>\n",
              "      <td>5.010000</td>\n",
              "      <td>79.000000</td>\n",
              "      <td>95.000000</td>\n",
              "      <td>18823.000000</td>\n",
              "      <td>10.740000</td>\n",
              "      <td>58.900000</td>\n",
              "      <td>31.800000</td>\n",
              "    </tr>\n",
              "  </tbody>\n",
              "</table>\n",
              "</div>\n",
              "    <div class=\"colab-df-buttons\">\n",
              "\n",
              "  <div class=\"colab-df-container\">\n",
              "    <button class=\"colab-df-convert\" onclick=\"convertToInteractive('df-5f3d2eae-568e-4855-ab92-1fd565bf783a')\"\n",
              "            title=\"Convert this dataframe to an interactive table.\"\n",
              "            style=\"display:none;\">\n",
              "\n",
              "  <svg xmlns=\"http://www.w3.org/2000/svg\" height=\"24px\" viewBox=\"0 -960 960 960\">\n",
              "    <path d=\"M120-120v-720h720v720H120Zm60-500h600v-160H180v160Zm220 220h160v-160H400v160Zm0 220h160v-160H400v160ZM180-400h160v-160H180v160Zm440 0h160v-160H620v160ZM180-180h160v-160H180v160Zm440 0h160v-160H620v160Z\"/>\n",
              "  </svg>\n",
              "    </button>\n",
              "\n",
              "  <style>\n",
              "    .colab-df-container {\n",
              "      display:flex;\n",
              "      gap: 12px;\n",
              "    }\n",
              "\n",
              "    .colab-df-convert {\n",
              "      background-color: #E8F0FE;\n",
              "      border: none;\n",
              "      border-radius: 50%;\n",
              "      cursor: pointer;\n",
              "      display: none;\n",
              "      fill: #1967D2;\n",
              "      height: 32px;\n",
              "      padding: 0 0 0 0;\n",
              "      width: 32px;\n",
              "    }\n",
              "\n",
              "    .colab-df-convert:hover {\n",
              "      background-color: #E2EBFA;\n",
              "      box-shadow: 0px 1px 2px rgba(60, 64, 67, 0.3), 0px 1px 3px 1px rgba(60, 64, 67, 0.15);\n",
              "      fill: #174EA6;\n",
              "    }\n",
              "\n",
              "    .colab-df-buttons div {\n",
              "      margin-bottom: 4px;\n",
              "    }\n",
              "\n",
              "    [theme=dark] .colab-df-convert {\n",
              "      background-color: #3B4455;\n",
              "      fill: #D2E3FC;\n",
              "    }\n",
              "\n",
              "    [theme=dark] .colab-df-convert:hover {\n",
              "      background-color: #434B5C;\n",
              "      box-shadow: 0px 1px 3px 1px rgba(0, 0, 0, 0.15);\n",
              "      filter: drop-shadow(0px 1px 2px rgba(0, 0, 0, 0.3));\n",
              "      fill: #FFFFFF;\n",
              "    }\n",
              "  </style>\n",
              "\n",
              "    <script>\n",
              "      const buttonEl =\n",
              "        document.querySelector('#df-5f3d2eae-568e-4855-ab92-1fd565bf783a button.colab-df-convert');\n",
              "      buttonEl.style.display =\n",
              "        google.colab.kernel.accessAllowed ? 'block' : 'none';\n",
              "\n",
              "      async function convertToInteractive(key) {\n",
              "        const element = document.querySelector('#df-5f3d2eae-568e-4855-ab92-1fd565bf783a');\n",
              "        const dataTable =\n",
              "          await google.colab.kernel.invokeFunction('convertToInteractive',\n",
              "                                                    [key], {});\n",
              "        if (!dataTable) return;\n",
              "\n",
              "        const docLinkHtml = 'Like what you see? Visit the ' +\n",
              "          '<a target=\"_blank\" href=https://colab.research.google.com/notebooks/data_table.ipynb>data table notebook</a>'\n",
              "          + ' to learn more about interactive tables.';\n",
              "        element.innerHTML = '';\n",
              "        dataTable['output_type'] = 'display_data';\n",
              "        await google.colab.output.renderOutput(dataTable, element);\n",
              "        const docLink = document.createElement('div');\n",
              "        docLink.innerHTML = docLinkHtml;\n",
              "        element.appendChild(docLink);\n",
              "      }\n",
              "    </script>\n",
              "  </div>\n",
              "\n",
              "\n",
              "    <div id=\"df-f527ab1a-71a1-489a-b625-5fc2f7307a38\">\n",
              "      <button class=\"colab-df-quickchart\" onclick=\"quickchart('df-f527ab1a-71a1-489a-b625-5fc2f7307a38')\"\n",
              "                title=\"Suggest charts\"\n",
              "                style=\"display:none;\">\n",
              "\n",
              "<svg xmlns=\"http://www.w3.org/2000/svg\" height=\"24px\"viewBox=\"0 0 24 24\"\n",
              "     width=\"24px\">\n",
              "    <g>\n",
              "        <path d=\"M19 3H5c-1.1 0-2 .9-2 2v14c0 1.1.9 2 2 2h14c1.1 0 2-.9 2-2V5c0-1.1-.9-2-2-2zM9 17H7v-7h2v7zm4 0h-2V7h2v10zm4 0h-2v-4h2v4z\"/>\n",
              "    </g>\n",
              "</svg>\n",
              "      </button>\n",
              "\n",
              "<style>\n",
              "  .colab-df-quickchart {\n",
              "      --bg-color: #E8F0FE;\n",
              "      --fill-color: #1967D2;\n",
              "      --hover-bg-color: #E2EBFA;\n",
              "      --hover-fill-color: #174EA6;\n",
              "      --disabled-fill-color: #AAA;\n",
              "      --disabled-bg-color: #DDD;\n",
              "  }\n",
              "\n",
              "  [theme=dark] .colab-df-quickchart {\n",
              "      --bg-color: #3B4455;\n",
              "      --fill-color: #D2E3FC;\n",
              "      --hover-bg-color: #434B5C;\n",
              "      --hover-fill-color: #FFFFFF;\n",
              "      --disabled-bg-color: #3B4455;\n",
              "      --disabled-fill-color: #666;\n",
              "  }\n",
              "\n",
              "  .colab-df-quickchart {\n",
              "    background-color: var(--bg-color);\n",
              "    border: none;\n",
              "    border-radius: 50%;\n",
              "    cursor: pointer;\n",
              "    display: none;\n",
              "    fill: var(--fill-color);\n",
              "    height: 32px;\n",
              "    padding: 0;\n",
              "    width: 32px;\n",
              "  }\n",
              "\n",
              "  .colab-df-quickchart:hover {\n",
              "    background-color: var(--hover-bg-color);\n",
              "    box-shadow: 0 1px 2px rgba(60, 64, 67, 0.3), 0 1px 3px 1px rgba(60, 64, 67, 0.15);\n",
              "    fill: var(--button-hover-fill-color);\n",
              "  }\n",
              "\n",
              "  .colab-df-quickchart-complete:disabled,\n",
              "  .colab-df-quickchart-complete:disabled:hover {\n",
              "    background-color: var(--disabled-bg-color);\n",
              "    fill: var(--disabled-fill-color);\n",
              "    box-shadow: none;\n",
              "  }\n",
              "\n",
              "  .colab-df-spinner {\n",
              "    border: 2px solid var(--fill-color);\n",
              "    border-color: transparent;\n",
              "    border-bottom-color: var(--fill-color);\n",
              "    animation:\n",
              "      spin 1s steps(1) infinite;\n",
              "  }\n",
              "\n",
              "  @keyframes spin {\n",
              "    0% {\n",
              "      border-color: transparent;\n",
              "      border-bottom-color: var(--fill-color);\n",
              "      border-left-color: var(--fill-color);\n",
              "    }\n",
              "    20% {\n",
              "      border-color: transparent;\n",
              "      border-left-color: var(--fill-color);\n",
              "      border-top-color: var(--fill-color);\n",
              "    }\n",
              "    30% {\n",
              "      border-color: transparent;\n",
              "      border-left-color: var(--fill-color);\n",
              "      border-top-color: var(--fill-color);\n",
              "      border-right-color: var(--fill-color);\n",
              "    }\n",
              "    40% {\n",
              "      border-color: transparent;\n",
              "      border-right-color: var(--fill-color);\n",
              "      border-top-color: var(--fill-color);\n",
              "    }\n",
              "    60% {\n",
              "      border-color: transparent;\n",
              "      border-right-color: var(--fill-color);\n",
              "    }\n",
              "    80% {\n",
              "      border-color: transparent;\n",
              "      border-right-color: var(--fill-color);\n",
              "      border-bottom-color: var(--fill-color);\n",
              "    }\n",
              "    90% {\n",
              "      border-color: transparent;\n",
              "      border-bottom-color: var(--fill-color);\n",
              "    }\n",
              "  }\n",
              "</style>\n",
              "\n",
              "      <script>\n",
              "        async function quickchart(key) {\n",
              "          const quickchartButtonEl =\n",
              "            document.querySelector('#' + key + ' button');\n",
              "          quickchartButtonEl.disabled = true;  // To prevent multiple clicks.\n",
              "          quickchartButtonEl.classList.add('colab-df-spinner');\n",
              "          try {\n",
              "            const charts = await google.colab.kernel.invokeFunction(\n",
              "                'suggestCharts', [key], {});\n",
              "          } catch (error) {\n",
              "            console.error('Error during call to suggestCharts:', error);\n",
              "          }\n",
              "          quickchartButtonEl.classList.remove('colab-df-spinner');\n",
              "          quickchartButtonEl.classList.add('colab-df-quickchart-complete');\n",
              "        }\n",
              "        (() => {\n",
              "          let quickchartButtonEl =\n",
              "            document.querySelector('#df-f527ab1a-71a1-489a-b625-5fc2f7307a38 button');\n",
              "          quickchartButtonEl.style.display =\n",
              "            google.colab.kernel.accessAllowed ? 'block' : 'none';\n",
              "        })();\n",
              "      </script>\n",
              "    </div>\n",
              "\n",
              "    </div>\n",
              "  </div>\n"
            ],
            "application/vnd.google.colaboratory.intrinsic+json": {
              "type": "dataframe",
              "summary": "{\n  \"name\": \"df\",\n  \"rows\": 8,\n  \"fields\": [\n    {\n      \"column\": \"carat\",\n      \"properties\": {\n        \"dtype\": \"number\",\n        \"std\": 17677.23398987179,\n        \"min\": 0.2,\n        \"max\": 50000.0,\n        \"num_unique_values\": 8,\n        \"samples\": [\n          0.7994437999999999,\n          0.7,\n          50000.0\n        ],\n        \"semantic_type\": \"\",\n        \"description\": \"\"\n      }\n    },\n    {\n      \"column\": \"depth\",\n      \"properties\": {\n        \"dtype\": \"number\",\n        \"std\": 17658.97239970446,\n        \"min\": 1.4310875319819645,\n        \"max\": 50000.0,\n        \"num_unique_values\": 8,\n        \"samples\": [\n          61.753006000000006,\n          61.8,\n          50000.0\n        ],\n        \"semantic_type\": \"\",\n        \"description\": \"\"\n      }\n    },\n    {\n      \"column\": \"table\",\n      \"properties\": {\n        \"dtype\": \"number\",\n        \"std\": 17659.01565988697,\n        \"min\": 2.232091739999323,\n        \"max\": 50000.0,\n        \"num_unique_values\": 8,\n        \"samples\": [\n          57.45783,\n          57.0,\n          50000.0\n        ],\n        \"semantic_type\": \"\",\n        \"description\": \"\"\n      }\n    },\n    {\n      \"column\": \"price\",\n      \"properties\": {\n        \"dtype\": \"number\",\n        \"std\": 16907.382179998436,\n        \"min\": 326.0,\n        \"max\": 50000.0,\n        \"num_unique_values\": 8,\n        \"samples\": [\n          3944.80544,\n          2410.0,\n          50000.0\n        ],\n        \"semantic_type\": \"\",\n        \"description\": \"\"\n      }\n    },\n    {\n      \"column\": \"x\",\n      \"properties\": {\n        \"dtype\": \"number\",\n        \"std\": 17675.92492725575,\n        \"min\": 0.0,\n        \"max\": 50000.0,\n        \"num_unique_values\": 8,\n        \"samples\": [\n          5.734403400000001,\n          5.7,\n          50000.0\n        ],\n        \"semantic_type\": \"\",\n        \"description\": \"\"\n      }\n    },\n    {\n      \"column\": \"y\",\n      \"properties\": {\n        \"dtype\": \"number\",\n        \"std\": 17673.500445128186,\n        \"min\": 0.0,\n        \"max\": 50000.0,\n        \"num_unique_values\": 8,\n        \"samples\": [\n          5.7379564,\n          5.71,\n          50000.0\n        ],\n        \"semantic_type\": \"\",\n        \"description\": \"\"\n      }\n    },\n    {\n      \"column\": \"z\",\n      \"properties\": {\n        \"dtype\": \"number\",\n        \"std\": 17675.322544692863,\n        \"min\": 0.0,\n        \"max\": 50000.0,\n        \"num_unique_values\": 8,\n        \"samples\": [\n          3.5410559999999998,\n          3.53,\n          50000.0\n        ],\n        \"semantic_type\": \"\",\n        \"description\": \"\"\n      }\n    }\n  ]\n}"
            }
          },
          "metadata": {},
          "execution_count": 9
        }
      ]
    },
    {
      "cell_type": "code",
      "source": [
        "df.isnull().sum()"
      ],
      "metadata": {
        "colab": {
          "base_uri": "https://localhost:8080/",
          "height": 398
        },
        "id": "TIYtq2H2Ak8s",
        "outputId": "3d2870d6-6cde-42ad-a723-f13778240e93"
      },
      "execution_count": null,
      "outputs": [
        {
          "output_type": "execute_result",
          "data": {
            "text/plain": [
              "carat      0\n",
              "cut        0\n",
              "color      0\n",
              "clarity    0\n",
              "depth      0\n",
              "table      0\n",
              "price      0\n",
              "x          0\n",
              "y          0\n",
              "z          0\n",
              "dtype: int64"
            ],
            "text/html": [
              "<div>\n",
              "<style scoped>\n",
              "    .dataframe tbody tr th:only-of-type {\n",
              "        vertical-align: middle;\n",
              "    }\n",
              "\n",
              "    .dataframe tbody tr th {\n",
              "        vertical-align: top;\n",
              "    }\n",
              "\n",
              "    .dataframe thead th {\n",
              "        text-align: right;\n",
              "    }\n",
              "</style>\n",
              "<table border=\"1\" class=\"dataframe\">\n",
              "  <thead>\n",
              "    <tr style=\"text-align: right;\">\n",
              "      <th></th>\n",
              "      <th>0</th>\n",
              "    </tr>\n",
              "  </thead>\n",
              "  <tbody>\n",
              "    <tr>\n",
              "      <th>carat</th>\n",
              "      <td>0</td>\n",
              "    </tr>\n",
              "    <tr>\n",
              "      <th>cut</th>\n",
              "      <td>0</td>\n",
              "    </tr>\n",
              "    <tr>\n",
              "      <th>color</th>\n",
              "      <td>0</td>\n",
              "    </tr>\n",
              "    <tr>\n",
              "      <th>clarity</th>\n",
              "      <td>0</td>\n",
              "    </tr>\n",
              "    <tr>\n",
              "      <th>depth</th>\n",
              "      <td>0</td>\n",
              "    </tr>\n",
              "    <tr>\n",
              "      <th>table</th>\n",
              "      <td>0</td>\n",
              "    </tr>\n",
              "    <tr>\n",
              "      <th>price</th>\n",
              "      <td>0</td>\n",
              "    </tr>\n",
              "    <tr>\n",
              "      <th>x</th>\n",
              "      <td>0</td>\n",
              "    </tr>\n",
              "    <tr>\n",
              "      <th>y</th>\n",
              "      <td>0</td>\n",
              "    </tr>\n",
              "    <tr>\n",
              "      <th>z</th>\n",
              "      <td>0</td>\n",
              "    </tr>\n",
              "  </tbody>\n",
              "</table>\n",
              "</div><br><label><b>dtype:</b> int64</label>"
            ]
          },
          "metadata": {},
          "execution_count": 14
        }
      ]
    },
    {
      "cell_type": "code",
      "source": [
        "#filter rows where 'cut' id \"ideal\" and 'color' is \"E\"\n",
        "filtered_df=df[(df['cut']=='Ideal')&(df['color']=='E')]\n",
        "filtered_df"
      ],
      "metadata": {
        "colab": {
          "base_uri": "https://localhost:8080/",
          "height": 424
        },
        "id": "0SnNuBDsCKjV",
        "outputId": "af1a2b36-fca4-4fd3-80e7-06576077922e"
      },
      "execution_count": null,
      "outputs": [
        {
          "output_type": "execute_result",
          "data": {
            "text/plain": [
              "       carat    cut color clarity  depth  table  price     x     y     z\n",
              "0       0.23  Ideal     E     SI2   61.5   55.0    326  3.95  3.98  2.43\n",
              "76      0.26  Ideal     E    VVS2   62.9   58.0    554  4.02  4.06  2.54\n",
              "82      0.70  Ideal     E     SI1   62.5   57.0   2757  5.70  5.72  3.57\n",
              "100     0.59  Ideal     E    VVS2   62.0   55.0   2761  5.38  5.43  3.35\n",
              "102     0.74  Ideal     E     SI2   62.2   56.0   2761  5.80  5.84  3.62\n",
              "...      ...    ...   ...     ...    ...    ...    ...   ...   ...   ...\n",
              "49940   0.70  Ideal     E     SI1   61.7   55.0   2745  5.71  5.74  3.53\n",
              "49942   0.51  Ideal     E    VVS1   61.9   54.0   2745  5.17  5.11  3.18\n",
              "49954   0.56  Ideal     E    VVS1   62.1   56.0   2750  5.28  5.29  3.28\n",
              "49978   0.77  Ideal     E     SI2   62.1   56.0   2753  5.84  5.86  3.63\n",
              "49987   0.71  Ideal     E     SI1   61.9   56.0   2756  5.71  5.73  3.54\n",
              "\n",
              "[3628 rows x 10 columns]"
            ],
            "text/html": [
              "\n",
              "  <div id=\"df-8c1d3b7f-ec6c-47c7-a57e-6a18d63accae\" class=\"colab-df-container\">\n",
              "    <div>\n",
              "<style scoped>\n",
              "    .dataframe tbody tr th:only-of-type {\n",
              "        vertical-align: middle;\n",
              "    }\n",
              "\n",
              "    .dataframe tbody tr th {\n",
              "        vertical-align: top;\n",
              "    }\n",
              "\n",
              "    .dataframe thead th {\n",
              "        text-align: right;\n",
              "    }\n",
              "</style>\n",
              "<table border=\"1\" class=\"dataframe\">\n",
              "  <thead>\n",
              "    <tr style=\"text-align: right;\">\n",
              "      <th></th>\n",
              "      <th>carat</th>\n",
              "      <th>cut</th>\n",
              "      <th>color</th>\n",
              "      <th>clarity</th>\n",
              "      <th>depth</th>\n",
              "      <th>table</th>\n",
              "      <th>price</th>\n",
              "      <th>x</th>\n",
              "      <th>y</th>\n",
              "      <th>z</th>\n",
              "    </tr>\n",
              "  </thead>\n",
              "  <tbody>\n",
              "    <tr>\n",
              "      <th>0</th>\n",
              "      <td>0.23</td>\n",
              "      <td>Ideal</td>\n",
              "      <td>E</td>\n",
              "      <td>SI2</td>\n",
              "      <td>61.5</td>\n",
              "      <td>55.0</td>\n",
              "      <td>326</td>\n",
              "      <td>3.95</td>\n",
              "      <td>3.98</td>\n",
              "      <td>2.43</td>\n",
              "    </tr>\n",
              "    <tr>\n",
              "      <th>76</th>\n",
              "      <td>0.26</td>\n",
              "      <td>Ideal</td>\n",
              "      <td>E</td>\n",
              "      <td>VVS2</td>\n",
              "      <td>62.9</td>\n",
              "      <td>58.0</td>\n",
              "      <td>554</td>\n",
              "      <td>4.02</td>\n",
              "      <td>4.06</td>\n",
              "      <td>2.54</td>\n",
              "    </tr>\n",
              "    <tr>\n",
              "      <th>82</th>\n",
              "      <td>0.70</td>\n",
              "      <td>Ideal</td>\n",
              "      <td>E</td>\n",
              "      <td>SI1</td>\n",
              "      <td>62.5</td>\n",
              "      <td>57.0</td>\n",
              "      <td>2757</td>\n",
              "      <td>5.70</td>\n",
              "      <td>5.72</td>\n",
              "      <td>3.57</td>\n",
              "    </tr>\n",
              "    <tr>\n",
              "      <th>100</th>\n",
              "      <td>0.59</td>\n",
              "      <td>Ideal</td>\n",
              "      <td>E</td>\n",
              "      <td>VVS2</td>\n",
              "      <td>62.0</td>\n",
              "      <td>55.0</td>\n",
              "      <td>2761</td>\n",
              "      <td>5.38</td>\n",
              "      <td>5.43</td>\n",
              "      <td>3.35</td>\n",
              "    </tr>\n",
              "    <tr>\n",
              "      <th>102</th>\n",
              "      <td>0.74</td>\n",
              "      <td>Ideal</td>\n",
              "      <td>E</td>\n",
              "      <td>SI2</td>\n",
              "      <td>62.2</td>\n",
              "      <td>56.0</td>\n",
              "      <td>2761</td>\n",
              "      <td>5.80</td>\n",
              "      <td>5.84</td>\n",
              "      <td>3.62</td>\n",
              "    </tr>\n",
              "    <tr>\n",
              "      <th>...</th>\n",
              "      <td>...</td>\n",
              "      <td>...</td>\n",
              "      <td>...</td>\n",
              "      <td>...</td>\n",
              "      <td>...</td>\n",
              "      <td>...</td>\n",
              "      <td>...</td>\n",
              "      <td>...</td>\n",
              "      <td>...</td>\n",
              "      <td>...</td>\n",
              "    </tr>\n",
              "    <tr>\n",
              "      <th>49940</th>\n",
              "      <td>0.70</td>\n",
              "      <td>Ideal</td>\n",
              "      <td>E</td>\n",
              "      <td>SI1</td>\n",
              "      <td>61.7</td>\n",
              "      <td>55.0</td>\n",
              "      <td>2745</td>\n",
              "      <td>5.71</td>\n",
              "      <td>5.74</td>\n",
              "      <td>3.53</td>\n",
              "    </tr>\n",
              "    <tr>\n",
              "      <th>49942</th>\n",
              "      <td>0.51</td>\n",
              "      <td>Ideal</td>\n",
              "      <td>E</td>\n",
              "      <td>VVS1</td>\n",
              "      <td>61.9</td>\n",
              "      <td>54.0</td>\n",
              "      <td>2745</td>\n",
              "      <td>5.17</td>\n",
              "      <td>5.11</td>\n",
              "      <td>3.18</td>\n",
              "    </tr>\n",
              "    <tr>\n",
              "      <th>49954</th>\n",
              "      <td>0.56</td>\n",
              "      <td>Ideal</td>\n",
              "      <td>E</td>\n",
              "      <td>VVS1</td>\n",
              "      <td>62.1</td>\n",
              "      <td>56.0</td>\n",
              "      <td>2750</td>\n",
              "      <td>5.28</td>\n",
              "      <td>5.29</td>\n",
              "      <td>3.28</td>\n",
              "    </tr>\n",
              "    <tr>\n",
              "      <th>49978</th>\n",
              "      <td>0.77</td>\n",
              "      <td>Ideal</td>\n",
              "      <td>E</td>\n",
              "      <td>SI2</td>\n",
              "      <td>62.1</td>\n",
              "      <td>56.0</td>\n",
              "      <td>2753</td>\n",
              "      <td>5.84</td>\n",
              "      <td>5.86</td>\n",
              "      <td>3.63</td>\n",
              "    </tr>\n",
              "    <tr>\n",
              "      <th>49987</th>\n",
              "      <td>0.71</td>\n",
              "      <td>Ideal</td>\n",
              "      <td>E</td>\n",
              "      <td>SI1</td>\n",
              "      <td>61.9</td>\n",
              "      <td>56.0</td>\n",
              "      <td>2756</td>\n",
              "      <td>5.71</td>\n",
              "      <td>5.73</td>\n",
              "      <td>3.54</td>\n",
              "    </tr>\n",
              "  </tbody>\n",
              "</table>\n",
              "<p>3628 rows × 10 columns</p>\n",
              "</div>\n",
              "    <div class=\"colab-df-buttons\">\n",
              "\n",
              "  <div class=\"colab-df-container\">\n",
              "    <button class=\"colab-df-convert\" onclick=\"convertToInteractive('df-8c1d3b7f-ec6c-47c7-a57e-6a18d63accae')\"\n",
              "            title=\"Convert this dataframe to an interactive table.\"\n",
              "            style=\"display:none;\">\n",
              "\n",
              "  <svg xmlns=\"http://www.w3.org/2000/svg\" height=\"24px\" viewBox=\"0 -960 960 960\">\n",
              "    <path d=\"M120-120v-720h720v720H120Zm60-500h600v-160H180v160Zm220 220h160v-160H400v160Zm0 220h160v-160H400v160ZM180-400h160v-160H180v160Zm440 0h160v-160H620v160ZM180-180h160v-160H180v160Zm440 0h160v-160H620v160Z\"/>\n",
              "  </svg>\n",
              "    </button>\n",
              "\n",
              "  <style>\n",
              "    .colab-df-container {\n",
              "      display:flex;\n",
              "      gap: 12px;\n",
              "    }\n",
              "\n",
              "    .colab-df-convert {\n",
              "      background-color: #E8F0FE;\n",
              "      border: none;\n",
              "      border-radius: 50%;\n",
              "      cursor: pointer;\n",
              "      display: none;\n",
              "      fill: #1967D2;\n",
              "      height: 32px;\n",
              "      padding: 0 0 0 0;\n",
              "      width: 32px;\n",
              "    }\n",
              "\n",
              "    .colab-df-convert:hover {\n",
              "      background-color: #E2EBFA;\n",
              "      box-shadow: 0px 1px 2px rgba(60, 64, 67, 0.3), 0px 1px 3px 1px rgba(60, 64, 67, 0.15);\n",
              "      fill: #174EA6;\n",
              "    }\n",
              "\n",
              "    .colab-df-buttons div {\n",
              "      margin-bottom: 4px;\n",
              "    }\n",
              "\n",
              "    [theme=dark] .colab-df-convert {\n",
              "      background-color: #3B4455;\n",
              "      fill: #D2E3FC;\n",
              "    }\n",
              "\n",
              "    [theme=dark] .colab-df-convert:hover {\n",
              "      background-color: #434B5C;\n",
              "      box-shadow: 0px 1px 3px 1px rgba(0, 0, 0, 0.15);\n",
              "      filter: drop-shadow(0px 1px 2px rgba(0, 0, 0, 0.3));\n",
              "      fill: #FFFFFF;\n",
              "    }\n",
              "  </style>\n",
              "\n",
              "    <script>\n",
              "      const buttonEl =\n",
              "        document.querySelector('#df-8c1d3b7f-ec6c-47c7-a57e-6a18d63accae button.colab-df-convert');\n",
              "      buttonEl.style.display =\n",
              "        google.colab.kernel.accessAllowed ? 'block' : 'none';\n",
              "\n",
              "      async function convertToInteractive(key) {\n",
              "        const element = document.querySelector('#df-8c1d3b7f-ec6c-47c7-a57e-6a18d63accae');\n",
              "        const dataTable =\n",
              "          await google.colab.kernel.invokeFunction('convertToInteractive',\n",
              "                                                    [key], {});\n",
              "        if (!dataTable) return;\n",
              "\n",
              "        const docLinkHtml = 'Like what you see? Visit the ' +\n",
              "          '<a target=\"_blank\" href=https://colab.research.google.com/notebooks/data_table.ipynb>data table notebook</a>'\n",
              "          + ' to learn more about interactive tables.';\n",
              "        element.innerHTML = '';\n",
              "        dataTable['output_type'] = 'display_data';\n",
              "        await google.colab.output.renderOutput(dataTable, element);\n",
              "        const docLink = document.createElement('div');\n",
              "        docLink.innerHTML = docLinkHtml;\n",
              "        element.appendChild(docLink);\n",
              "      }\n",
              "    </script>\n",
              "  </div>\n",
              "\n",
              "\n",
              "    <div id=\"df-457ee2a1-87a4-4a44-931d-a5bf9cc19b9f\">\n",
              "      <button class=\"colab-df-quickchart\" onclick=\"quickchart('df-457ee2a1-87a4-4a44-931d-a5bf9cc19b9f')\"\n",
              "                title=\"Suggest charts\"\n",
              "                style=\"display:none;\">\n",
              "\n",
              "<svg xmlns=\"http://www.w3.org/2000/svg\" height=\"24px\"viewBox=\"0 0 24 24\"\n",
              "     width=\"24px\">\n",
              "    <g>\n",
              "        <path d=\"M19 3H5c-1.1 0-2 .9-2 2v14c0 1.1.9 2 2 2h14c1.1 0 2-.9 2-2V5c0-1.1-.9-2-2-2zM9 17H7v-7h2v7zm4 0h-2V7h2v10zm4 0h-2v-4h2v4z\"/>\n",
              "    </g>\n",
              "</svg>\n",
              "      </button>\n",
              "\n",
              "<style>\n",
              "  .colab-df-quickchart {\n",
              "      --bg-color: #E8F0FE;\n",
              "      --fill-color: #1967D2;\n",
              "      --hover-bg-color: #E2EBFA;\n",
              "      --hover-fill-color: #174EA6;\n",
              "      --disabled-fill-color: #AAA;\n",
              "      --disabled-bg-color: #DDD;\n",
              "  }\n",
              "\n",
              "  [theme=dark] .colab-df-quickchart {\n",
              "      --bg-color: #3B4455;\n",
              "      --fill-color: #D2E3FC;\n",
              "      --hover-bg-color: #434B5C;\n",
              "      --hover-fill-color: #FFFFFF;\n",
              "      --disabled-bg-color: #3B4455;\n",
              "      --disabled-fill-color: #666;\n",
              "  }\n",
              "\n",
              "  .colab-df-quickchart {\n",
              "    background-color: var(--bg-color);\n",
              "    border: none;\n",
              "    border-radius: 50%;\n",
              "    cursor: pointer;\n",
              "    display: none;\n",
              "    fill: var(--fill-color);\n",
              "    height: 32px;\n",
              "    padding: 0;\n",
              "    width: 32px;\n",
              "  }\n",
              "\n",
              "  .colab-df-quickchart:hover {\n",
              "    background-color: var(--hover-bg-color);\n",
              "    box-shadow: 0 1px 2px rgba(60, 64, 67, 0.3), 0 1px 3px 1px rgba(60, 64, 67, 0.15);\n",
              "    fill: var(--button-hover-fill-color);\n",
              "  }\n",
              "\n",
              "  .colab-df-quickchart-complete:disabled,\n",
              "  .colab-df-quickchart-complete:disabled:hover {\n",
              "    background-color: var(--disabled-bg-color);\n",
              "    fill: var(--disabled-fill-color);\n",
              "    box-shadow: none;\n",
              "  }\n",
              "\n",
              "  .colab-df-spinner {\n",
              "    border: 2px solid var(--fill-color);\n",
              "    border-color: transparent;\n",
              "    border-bottom-color: var(--fill-color);\n",
              "    animation:\n",
              "      spin 1s steps(1) infinite;\n",
              "  }\n",
              "\n",
              "  @keyframes spin {\n",
              "    0% {\n",
              "      border-color: transparent;\n",
              "      border-bottom-color: var(--fill-color);\n",
              "      border-left-color: var(--fill-color);\n",
              "    }\n",
              "    20% {\n",
              "      border-color: transparent;\n",
              "      border-left-color: var(--fill-color);\n",
              "      border-top-color: var(--fill-color);\n",
              "    }\n",
              "    30% {\n",
              "      border-color: transparent;\n",
              "      border-left-color: var(--fill-color);\n",
              "      border-top-color: var(--fill-color);\n",
              "      border-right-color: var(--fill-color);\n",
              "    }\n",
              "    40% {\n",
              "      border-color: transparent;\n",
              "      border-right-color: var(--fill-color);\n",
              "      border-top-color: var(--fill-color);\n",
              "    }\n",
              "    60% {\n",
              "      border-color: transparent;\n",
              "      border-right-color: var(--fill-color);\n",
              "    }\n",
              "    80% {\n",
              "      border-color: transparent;\n",
              "      border-right-color: var(--fill-color);\n",
              "      border-bottom-color: var(--fill-color);\n",
              "    }\n",
              "    90% {\n",
              "      border-color: transparent;\n",
              "      border-bottom-color: var(--fill-color);\n",
              "    }\n",
              "  }\n",
              "</style>\n",
              "\n",
              "      <script>\n",
              "        async function quickchart(key) {\n",
              "          const quickchartButtonEl =\n",
              "            document.querySelector('#' + key + ' button');\n",
              "          quickchartButtonEl.disabled = true;  // To prevent multiple clicks.\n",
              "          quickchartButtonEl.classList.add('colab-df-spinner');\n",
              "          try {\n",
              "            const charts = await google.colab.kernel.invokeFunction(\n",
              "                'suggestCharts', [key], {});\n",
              "          } catch (error) {\n",
              "            console.error('Error during call to suggestCharts:', error);\n",
              "          }\n",
              "          quickchartButtonEl.classList.remove('colab-df-spinner');\n",
              "          quickchartButtonEl.classList.add('colab-df-quickchart-complete');\n",
              "        }\n",
              "        (() => {\n",
              "          let quickchartButtonEl =\n",
              "            document.querySelector('#df-457ee2a1-87a4-4a44-931d-a5bf9cc19b9f button');\n",
              "          quickchartButtonEl.style.display =\n",
              "            google.colab.kernel.accessAllowed ? 'block' : 'none';\n",
              "        })();\n",
              "      </script>\n",
              "    </div>\n",
              "\n",
              "  <div id=\"id_93e6712d-6244-40fc-81af-022c082bf422\">\n",
              "    <style>\n",
              "      .colab-df-generate {\n",
              "        background-color: #E8F0FE;\n",
              "        border: none;\n",
              "        border-radius: 50%;\n",
              "        cursor: pointer;\n",
              "        display: none;\n",
              "        fill: #1967D2;\n",
              "        height: 32px;\n",
              "        padding: 0 0 0 0;\n",
              "        width: 32px;\n",
              "      }\n",
              "\n",
              "      .colab-df-generate:hover {\n",
              "        background-color: #E2EBFA;\n",
              "        box-shadow: 0px 1px 2px rgba(60, 64, 67, 0.3), 0px 1px 3px 1px rgba(60, 64, 67, 0.15);\n",
              "        fill: #174EA6;\n",
              "      }\n",
              "\n",
              "      [theme=dark] .colab-df-generate {\n",
              "        background-color: #3B4455;\n",
              "        fill: #D2E3FC;\n",
              "      }\n",
              "\n",
              "      [theme=dark] .colab-df-generate:hover {\n",
              "        background-color: #434B5C;\n",
              "        box-shadow: 0px 1px 3px 1px rgba(0, 0, 0, 0.15);\n",
              "        filter: drop-shadow(0px 1px 2px rgba(0, 0, 0, 0.3));\n",
              "        fill: #FFFFFF;\n",
              "      }\n",
              "    </style>\n",
              "    <button class=\"colab-df-generate\" onclick=\"generateWithVariable('filtered_df')\"\n",
              "            title=\"Generate code using this dataframe.\"\n",
              "            style=\"display:none;\">\n",
              "\n",
              "  <svg xmlns=\"http://www.w3.org/2000/svg\" height=\"24px\"viewBox=\"0 0 24 24\"\n",
              "       width=\"24px\">\n",
              "    <path d=\"M7,19H8.4L18.45,9,17,7.55,7,17.6ZM5,21V16.75L18.45,3.32a2,2,0,0,1,2.83,0l1.4,1.43a1.91,1.91,0,0,1,.58,1.4,1.91,1.91,0,0,1-.58,1.4L9.25,21ZM18.45,9,17,7.55Zm-12,3A5.31,5.31,0,0,0,4.9,8.1,5.31,5.31,0,0,0,1,6.5,5.31,5.31,0,0,0,4.9,4.9,5.31,5.31,0,0,0,6.5,1,5.31,5.31,0,0,0,8.1,4.9,5.31,5.31,0,0,0,12,6.5,5.46,5.46,0,0,0,6.5,12Z\"/>\n",
              "  </svg>\n",
              "    </button>\n",
              "    <script>\n",
              "      (() => {\n",
              "      const buttonEl =\n",
              "        document.querySelector('#id_93e6712d-6244-40fc-81af-022c082bf422 button.colab-df-generate');\n",
              "      buttonEl.style.display =\n",
              "        google.colab.kernel.accessAllowed ? 'block' : 'none';\n",
              "\n",
              "      buttonEl.onclick = () => {\n",
              "        google.colab.notebook.generateWithVariable('filtered_df');\n",
              "      }\n",
              "      })();\n",
              "    </script>\n",
              "  </div>\n",
              "\n",
              "    </div>\n",
              "  </div>\n"
            ],
            "application/vnd.google.colaboratory.intrinsic+json": {
              "type": "dataframe",
              "variable_name": "filtered_df",
              "summary": "{\n  \"name\": \"filtered_df\",\n  \"rows\": 3628,\n  \"fields\": [\n    {\n      \"column\": \"carat\",\n      \"properties\": {\n        \"dtype\": \"number\",\n        \"std\": 0.3128340647298602,\n        \"min\": 0.2,\n        \"max\": 2.28,\n        \"num_unique_values\": 143,\n        \"samples\": [\n          1.63,\n          0.62,\n          1.55\n        ],\n        \"semantic_type\": \"\",\n        \"description\": \"\"\n      }\n    },\n    {\n      \"column\": \"cut\",\n      \"properties\": {\n        \"dtype\": \"category\",\n        \"num_unique_values\": 1,\n        \"samples\": [\n          \"Ideal\"\n        ],\n        \"semantic_type\": \"\",\n        \"description\": \"\"\n      }\n    },\n    {\n      \"column\": \"color\",\n      \"properties\": {\n        \"dtype\": \"category\",\n        \"num_unique_values\": 1,\n        \"samples\": [\n          \"E\"\n        ],\n        \"semantic_type\": \"\",\n        \"description\": \"\"\n      }\n    },\n    {\n      \"column\": \"clarity\",\n      \"properties\": {\n        \"dtype\": \"category\",\n        \"num_unique_values\": 8,\n        \"samples\": [\n          \"VVS2\"\n        ],\n        \"semantic_type\": \"\",\n        \"description\": \"\"\n      }\n    },\n    {\n      \"column\": \"depth\",\n      \"properties\": {\n        \"dtype\": \"number\",\n        \"std\": 0.7100266309618767,\n        \"min\": 58.3,\n        \"max\": 65.5,\n        \"num_unique_values\": 51,\n        \"samples\": [\n          63.8\n        ],\n        \"semantic_type\": \"\",\n        \"description\": \"\"\n      }\n    },\n    {\n      \"column\": \"table\",\n      \"properties\": {\n        \"dtype\": \"number\",\n        \"std\": 1.1861850919280255,\n        \"min\": 52.0,\n        \"max\": 62.0,\n        \"num_unique_values\": 37,\n        \"samples\": [\n          54.7\n        ],\n        \"semantic_type\": \"\",\n        \"description\": \"\"\n      }\n    },\n    {\n      \"column\": \"price\",\n      \"properties\": {\n        \"dtype\": \"number\",\n        \"std\": 2946,\n        \"min\": 326,\n        \"max\": 18729,\n        \"num_unique_values\": 1807,\n        \"samples\": [\n          1412\n        ],\n        \"semantic_type\": \"\",\n        \"description\": \"\"\n      }\n    },\n    {\n      \"column\": \"x\",\n      \"properties\": {\n        \"dtype\": \"number\",\n        \"std\": 0.8544152151824209,\n        \"min\": 3.76,\n        \"max\": 8.52,\n        \"num_unique_values\": 364,\n        \"samples\": [\n          7.03\n        ],\n        \"semantic_type\": \"\",\n        \"description\": \"\"\n      }\n    },\n    {\n      \"column\": \"y\",\n      \"properties\": {\n        \"dtype\": \"number\",\n        \"std\": 0.9607744210009831,\n        \"min\": 3.73,\n        \"max\": 31.8,\n        \"num_unique_values\": 364,\n        \"samples\": [\n          4.68\n        ],\n        \"semantic_type\": \"\",\n        \"description\": \"\"\n      }\n    },\n    {\n      \"column\": \"z\",\n      \"properties\": {\n        \"dtype\": \"number\",\n        \"std\": 0.5273821446380437,\n        \"min\": 2.33,\n        \"max\": 5.25,\n        \"num_unique_values\": 232,\n        \"samples\": [\n          3.12\n        ],\n        \"semantic_type\": \"\",\n        \"description\": \"\"\n      }\n    }\n  ]\n}"
            }
          },
          "metadata": {},
          "execution_count": 18
        }
      ]
    },
    {
      "cell_type": "code",
      "source": [
        "#Group by 'cut' and compute the average 'price' for each group\n",
        "average_price = df.groupby('cut')['price'].mean()\n",
        "average_price"
      ],
      "metadata": {
        "colab": {
          "base_uri": "https://localhost:8080/",
          "height": 272
        },
        "id": "Uq-p0PBLFP9H",
        "outputId": "271482b7-5f62-4672-9904-66fda578e554"
      },
      "execution_count": null,
      "outputs": [
        {
          "output_type": "execute_result",
          "data": {
            "text/plain": [
              "cut\n",
              "Fair         4329.705017\n",
              "Good         3961.470266\n",
              "Ideal        3463.090230\n",
              "Premium      4607.382867\n",
              "Very Good    3986.585594\n",
              "Name: price, dtype: float64"
            ],
            "text/html": [
              "<div>\n",
              "<style scoped>\n",
              "    .dataframe tbody tr th:only-of-type {\n",
              "        vertical-align: middle;\n",
              "    }\n",
              "\n",
              "    .dataframe tbody tr th {\n",
              "        vertical-align: top;\n",
              "    }\n",
              "\n",
              "    .dataframe thead th {\n",
              "        text-align: right;\n",
              "    }\n",
              "</style>\n",
              "<table border=\"1\" class=\"dataframe\">\n",
              "  <thead>\n",
              "    <tr style=\"text-align: right;\">\n",
              "      <th></th>\n",
              "      <th>price</th>\n",
              "    </tr>\n",
              "    <tr>\n",
              "      <th>cut</th>\n",
              "      <th></th>\n",
              "    </tr>\n",
              "  </thead>\n",
              "  <tbody>\n",
              "    <tr>\n",
              "      <th>Fair</th>\n",
              "      <td>4329.705017</td>\n",
              "    </tr>\n",
              "    <tr>\n",
              "      <th>Good</th>\n",
              "      <td>3961.470266</td>\n",
              "    </tr>\n",
              "    <tr>\n",
              "      <th>Ideal</th>\n",
              "      <td>3463.090230</td>\n",
              "    </tr>\n",
              "    <tr>\n",
              "      <th>Premium</th>\n",
              "      <td>4607.382867</td>\n",
              "    </tr>\n",
              "    <tr>\n",
              "      <th>Very Good</th>\n",
              "      <td>3986.585594</td>\n",
              "    </tr>\n",
              "  </tbody>\n",
              "</table>\n",
              "</div><br><label><b>dtype:</b> float64</label>"
            ]
          },
          "metadata": {},
          "execution_count": 19
        }
      ]
    },
    {
      "cell_type": "code",
      "source": [
        "#Sort the data by 'carat' in descending order and show the top 5 rows.\n",
        "carat=df.sort_values(['carat'],ascending=False).head(5)\n",
        "print(carat)"
      ],
      "metadata": {
        "colab": {
          "base_uri": "https://localhost:8080/"
        },
        "id": "MwMm9WKHHQ4c",
        "outputId": "f94bada3-214f-4ecd-e384-4d3417be54b1"
      },
      "execution_count": null,
      "outputs": [
        {
          "output_type": "stream",
          "name": "stdout",
          "text": [
            "       carat      cut color clarity  depth  table  price      x      y     z\n",
            "25426   5.01     Fair     J      I1   65.5   59.0  18018  10.74  10.54  6.98\n",
            "25624   4.50     Fair     J      I1   65.8   58.0  18531  10.23  10.16  6.72\n",
            "25163   4.13     Fair     H      I1   64.8   61.0  17329  10.00   9.85  6.43\n",
            "24102   4.01  Premium     I      I1   61.0   61.0  15223  10.14  10.10  6.17\n",
            "24103   4.01  Premium     J      I1   62.5   62.0  15223  10.02   9.94  6.24\n"
          ]
        }
      ]
    },
    {
      "cell_type": "code",
      "source": [
        "#convert the 'price' column to a NumPy array and find its mean,median and standard deviation\n",
        "import pandas as pd\n",
        "import numpy as np\n",
        "df = pd.read_csv('https://raw.githubusercontent.com/amrit2711tech/Assignment/refs/heads/main/diamonds.csv')\n",
        "\n",
        "price_array = df['price'].to_numpy()\n",
        "print(price_array)\n",
        "mean_price = np.mean(price_array)\n",
        "median_price = np.median(price_array)\n",
        "std_price = np.std(price_array)\n",
        "print(f\"Mean: {mean_price}\")\n",
        "print(f\"Median: {median_price}\")\n",
        "print(f\"Standard Deviation: {std_price}\")\n",
        "\n",
        "\n",
        "\n",
        "\n",
        "\n",
        "\n",
        "\n"
      ],
      "metadata": {
        "id": "DWWR6CbZJepM",
        "colab": {
          "base_uri": "https://localhost:8080/"
        },
        "outputId": "47fe4be4-c1e8-42dd-c688-37a4399fd370"
      },
      "execution_count": 6,
      "outputs": [
        {
          "output_type": "stream",
          "name": "stdout",
          "text": [
            "[ 326  326  327 ... 2757 2757 2757]\n",
            "Mean: 3944.80544\n",
            "Median: 2410.0\n",
            "Standard Deviation: 3997.8981250585175\n"
          ]
        }
      ]
    },
    {
      "cell_type": "code",
      "source": [
        "#Count diamonds with 'price>5000' and 'carat>1' using NumPy conditions\n",
        "price_array = df['price'].to_numpy()\n",
        "carat_array = df['carat'].to_numpy()\n",
        "condition = (price_array>5000) & (carat_array>1)\n",
        "count = np.sum(condition)\n",
        "print(\"Number of diamonds with 'price>5000' and 'carat>1' is:\",count)\n",
        "\n"
      ],
      "metadata": {
        "colab": {
          "base_uri": "https://localhost:8080/"
        },
        "id": "3OmZzx2Oj9yw",
        "outputId": "1c3d3e46-14b5-4192-acdf-a603778d71a7"
      },
      "execution_count": 7,
      "outputs": [
        {
          "output_type": "stream",
          "name": "stdout",
          "text": [
            "Number of diamonds with 'price>5000' and 'carat>1' is: 12798\n"
          ]
        }
      ]
    },
    {
      "cell_type": "code",
      "source": [
        "# Create a new column `price_updated` by increasing `price` by 10% using NumPy"
      ],
      "metadata": {
        "id": "M_j_9-y5m5RQ"
      },
      "execution_count": null,
      "outputs": []
    },
    {
      "cell_type": "code",
      "source": [
        "#Create a `volume` column as `x*y*z` and find the average `price` where `volume > 50`\n"
      ],
      "metadata": {
        "id": "6BWff267oCds"
      },
      "execution_count": null,
      "outputs": []
    }
  ]
}