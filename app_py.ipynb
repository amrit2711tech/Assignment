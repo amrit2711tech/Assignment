{
  "nbformat": 4,
  "nbformat_minor": 0,
  "metadata": {
    "colab": {
      "provenance": [],
      "authorship_tag": "ABX9TyNySCC1J+tMFerexNxwjbOR",
      "include_colab_link": true
    },
    "kernelspec": {
      "name": "python3",
      "display_name": "Python 3"
    },
    "language_info": {
      "name": "python"
    }
  },
  "cells": [
    {
      "cell_type": "markdown",
      "metadata": {
        "id": "view-in-github",
        "colab_type": "text"
      },
      "source": [
        "<a href=\"https://colab.research.google.com/github/amrit2711tech/Assignment/blob/main/app_py.ipynb\" target=\"_parent\"><img src=\"https://colab.research.google.com/assets/colab-badge.svg\" alt=\"Open In Colab\"/></a>"
      ]
    },
    {
      "cell_type": "code",
      "source": [
        "code = \"\"\"\n",
        "import os\n",
        "os.environ[\"MPLCONFIGDIR\"] = \"/tmp\"\n",
        "\n",
        "import pandas as pd\n",
        "import joblib\n",
        "import gradio as gr\n",
        "import matplotlib.pyplot as plt\n",
        "import seaborn as sns\n",
        "\n",
        "# Load model and dataset\n",
        "model = joblib.load(\"cancer_model.pkl\")\n",
        "df = pd.read_csv(\"https://raw.githubusercontent.com/amrit2711tech/Assignment/refs/heads/main/cancer_data_2000rows_7cols.csv\")\n",
        "\n",
        "# Visualizations\n",
        "def create_charts():\n",
        "    sns.heatmap(df.corr(), annot=True)\n",
        "    plt.title(\"Correlation Heatmap\")\n",
        "    plt.savefig(\"/tmp/heatmap.png\")\n",
        "    plt.close()\n",
        "\n",
        "    plt.hist(df['radius_mean'], bins=20, color='purple')\n",
        "    plt.title(\"Distribution of Radius Mean\")\n",
        "    plt.savefig(\"/tmp/hist_radius.png\")\n",
        "    plt.close()\n",
        "\n",
        "create_charts()\n",
        "\n",
        "# Prediction function\n",
        "def predict(radius_mean, texture_mean, perimeter_mean, area_mean, smoothness_mean, compactness_mean, concavity_mean):\n",
        "    input_data = [[radius_mean, texture_mean, perimeter_mean, area_mean, smoothness_mean, compactness_mean, concavity_mean]]\n",
        "    prediction = model.predict(input_data)[0]\n",
        "    return \"Malignant\" if prediction == 1 else \"Benign\"\n",
        "\n",
        "# Interface\n",
        "inputs = [\n",
        "    gr.Number(label=\"Radius Mean\"),\n",
        "    gr.Number(label=\"Texture Mean\"),\n",
        "    gr.Number(label=\"Perimeter Mean\"),\n",
        "    gr.Number(label=\"Area Mean\"),\n",
        "    gr.Number(label=\"Smoothness Mean\"),\n",
        "    gr.Number(label=\"Compactness Mean\"),\n",
        "    gr.Number(label=\"Concavity Mean\"),\n",
        "]\n",
        "\n",
        "iface = gr.Interface(\n",
        "    fn=predict,\n",
        "    inputs=inputs,\n",
        "    outputs=\"text\",\n",
        "    title=\"Cancer Cell Predictor\",\n",
        "    description=\"Upload patient values to detect cancer.\",\n",
        "    examples=[[14.0, 20.0, 90.0, 600.0, 0.1, 0.15, 0.2]]\n",
        ")\n",
        "\n",
        "iface.launch()\n",
        "\"\"\"\n",
        "\n",
        "# Save to app.py\n",
        "with open(\"app.py\", \"w\") as f:\n",
        "    f.write(code)\n",
        "\n",
        "print(\"✅ app.py saved successfully!\")"
      ],
      "metadata": {
        "colab": {
          "base_uri": "https://localhost:8080/"
        },
        "id": "ks5pG0cOo4IZ",
        "outputId": "06a9bb87-d2e2-4226-c501-d34acbe96a99"
      },
      "execution_count": 8,
      "outputs": [
        {
          "output_type": "stream",
          "name": "stdout",
          "text": [
            "✅ app.py saved successfully!\n"
          ]
        }
      ]
    },
    {
      "cell_type": "code",
      "source": [
        "!ls app.py"
      ],
      "metadata": {
        "colab": {
          "base_uri": "https://localhost:8080/"
        },
        "id": "1v6U1dippN0S",
        "outputId": "68b0a589-b0f2-4662-8894-2cb1c98bad07"
      },
      "execution_count": 9,
      "outputs": [
        {
          "output_type": "stream",
          "name": "stdout",
          "text": [
            "app.py\n"
          ]
        }
      ]
    }
  ]
}